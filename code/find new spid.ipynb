{
 "cells": [
  {
   "cell_type": "code",
   "execution_count": 18,
   "metadata": {
    "ExecuteTime": {
     "end_time": "2020-03-08T09:18:01.103408Z",
     "start_time": "2020-03-08T09:17:58.327917Z"
    }
   },
   "outputs": [
    {
     "name": "stdout",
     "output_type": "stream",
     "text": [
      "The OS of this machine is darwin. Connecting to remote server...\n"
     ]
    }
   ],
   "source": [
    "import psycopg2\n",
    "import sys\n",
    "from sqlalchemy import create_engine\n",
    "import pandas as pd\n",
    "from setting import *\n",
    "from lxml import html\n",
    "import hanja\n",
    "from nltk.tokenize import RegexpTokenizer\n",
    "def init():\n",
    "    if sys.platform == \"win32\":\n",
    "        conn = psycopg2.connect(database=DB, user=USER, password=PASSWORD, host='localhost', port=PORT)\n",
    "        cur = conn.cursor()\n",
    "    else:\n",
    "        print(\"The OS of this machine is \" + sys.platform + \". Connecting to remote server...\")\n",
    "        # host = '143.248.109.99'\n",
    "        conn = psycopg2.connect(database=DB, user=USER, password=PASSWORD, host=HOST, port=PORT)\n",
    "        cur = conn.cursor()\n",
    "    return conn, cur\n",
    "\n",
    "engine = create_engine('postgresql+psycopg2://{}:{}@{}:{}/{}'.format(USER, PASSWORD, HOST,PORT,DB))\n",
    "con, cur = init()"
   ]
  },
  {
   "cell_type": "code",
   "execution_count": 2,
   "metadata": {
    "ExecuteTime": {
     "end_time": "2020-02-26T10:52:24.094903Z",
     "start_time": "2020-02-26T10:52:12.112551Z"
    }
   },
   "outputs": [],
   "source": [
    "sillok = pd.read_sql_table('sillok', con=engine)"
   ]
  },
  {
   "cell_type": "code",
   "execution_count": 140,
   "metadata": {
    "ExecuteTime": {
     "end_time": "2020-02-26T12:36:19.352246Z",
     "start_time": "2020-02-26T12:36:11.794768Z"
    }
   },
   "outputs": [],
   "source": [
    "import re\n",
    "specials = set(list(re.sub(r'[^\\x00-\\x7F]+','',''.join(sillok['chinese']))))"
   ]
  },
  {
   "cell_type": "code",
   "execution_count": 161,
   "metadata": {
    "ExecuteTime": {
     "end_time": "2020-02-26T12:51:02.017093Z",
     "start_time": "2020-02-26T12:51:02.013826Z"
    }
   },
   "outputs": [],
   "source": [
    "specials = {'○', '。', ',','\"', '?','/','、','而', 'ㆍ'}"
   ]
  },
  {
   "cell_type": "code",
   "execution_count": 255,
   "metadata": {
    "ExecuteTime": {
     "end_time": "2020-02-26T14:21:18.500913Z",
     "start_time": "2020-02-26T14:21:17.302966Z"
    }
   },
   "outputs": [],
   "source": [
    "dates = pd.read_sql_table('dates',con=engine)\n",
    "dates = {k:v for k, v in zip(dates['lunardate'], dates['solardate'])}\n",
    "sillok['solardate'] = sillok['lunardate'].map(dates)"
   ]
  },
  {
   "cell_type": "code",
   "execution_count": 272,
   "metadata": {
    "ExecuteTime": {
     "end_time": "2020-02-26T14:38:14.501916Z",
     "start_time": "2020-02-26T14:32:38.181789Z"
    },
    "scrolled": false
   },
   "outputs": [
    {
     "name": "stdout",
     "output_type": "stream",
     "text": [
      "The OS of this machine is darwin. Connecting to remote server...\n"
     ]
    }
   ],
   "source": [
    "con, cur = init()\n",
    "def find_gwanjik(x):\n",
    "    p = x['paragraph']\n",
    "    sid = x['sid']\n",
    "    solardate = x['solardate']\n",
    "    para = ''\n",
    "    tglist = re.findall('<index.*?>.+?</index>','<p>'+p+'</p>')\n",
    "    nmlist = re.findall('<index.*?>(.+?)</index>','<p>'+p+'</p>')\n",
    "    \n",
    "    for i, j in enumerate(html.fromstring('<p>'+p+'</p>').xpath('//text()')):\n",
    "        if j in nmlist:\n",
    "            s = tglist[nmlist.index(j)]\n",
    "            tglist.pop(nmlist.index(j))\n",
    "            nmlist.pop(nmlist.index(j))\n",
    "        else:\n",
    "            s = '<c>'+j+'</c>'\n",
    "        para += s\n",
    "    para = '<p>'+para+'</p>'\n",
    "    tree = etree.parse(StringIO(para))\n",
    "    root = tree.getroot()\n",
    "    refs = root.xpath('index/@ref')\n",
    "    for ref in set(refs):\n",
    "        gwanjik = [''.join([s for s in list(i.text) if s not in specials]).split(' ')[-1] for i in root.xpath('index[@ref=\"'+ref+'\"]/preceding::c[1]')][0]\n",
    "        officelevel = hanja.translate(gwanjik,mode='substitution')+'('+gwanjik+')' if gwanjik != '' else None \n",
    "        \n",
    "        cur.execute('''\n",
    "    insert into sillok_career_new (spid, officelevel, sid, solardate)\n",
    "    values ((%s), (%s), (%s), (%s))\n",
    "    ''', (ref, officelevel, sid, solardate))\n",
    "    \n",
    "\n",
    "sillok.apply(find_gwanjik, axis=1)\n",
    "con.commit()\n",
    "con.close()\n"
   ]
  },
  {
   "cell_type": "code",
   "execution_count": 11,
   "metadata": {
    "ExecuteTime": {
     "end_time": "2020-02-26T10:56:39.564140Z",
     "start_time": "2020-02-26T10:56:39.544934Z"
    }
   },
   "outputs": [
    {
     "data": {
      "text/plain": [
       "['李鎬俊', '趙寅燮', '鄭謙植', '金宗泰', '李應辰', '沈承澤', '嚴錫鼎']"
      ]
     },
     "execution_count": 11,
     "metadata": {},
     "output_type": "execute_result"
    }
   ],
   "source": [
    "[i.text for i in html.fromstring(sillok['paragraph'][0]).xpath('//index[@type=\"이름\"]')]"
   ]
  },
  {
   "cell_type": "code",
   "execution_count": 18,
   "metadata": {
    "ExecuteTime": {
     "end_time": "2020-02-26T10:58:18.605589Z",
     "start_time": "2020-02-26T10:58:18.601234Z"
    }
   },
   "outputs": [
    {
     "data": {
      "text/plain": [
       "['M_0012208', 'M_0004893', 'M_0058630']"
      ]
     },
     "execution_count": 18,
     "metadata": {},
     "output_type": "execute_result"
    }
   ],
   "source": [
    "[i for i in html.fromstring(sillok['paragraph'][4]).xpath('//@ref')]"
   ]
  },
  {
   "cell_type": "code",
   "execution_count": 21,
   "metadata": {
    "ExecuteTime": {
     "end_time": "2020-02-26T11:08:37.542529Z",
     "start_time": "2020-02-26T11:08:37.536550Z"
    }
   },
   "outputs": [
    {
     "data": {
      "text/plain": [
       "['陳賀時差備官以下, 施賞有差。 禮房承旨',\n",
       " '、對擧承旨',\n",
       " '、宣敎官',\n",
       " '、左通禮',\n",
       " '、右通禮',\n",
       " ', 竝加資。 都承旨',\n",
       " '、戶曹參判',\n",
       " ', 百官加親授。 ']"
      ]
     },
     "execution_count": 21,
     "metadata": {},
     "output_type": "execute_result"
    }
   ],
   "source": [
    "[i for i in html.fromstring(sillok['paragraph'][0]).xpath('text()')]"
   ]
  },
  {
   "cell_type": "code",
   "execution_count": 35,
   "metadata": {
    "ExecuteTime": {
     "end_time": "2020-02-26T11:13:46.234578Z",
     "start_time": "2020-02-26T11:13:46.230731Z"
    }
   },
   "outputs": [
    {
     "data": {
      "text/plain": [
       "[]"
      ]
     },
     "execution_count": 35,
     "metadata": {},
     "output_type": "execute_result"
    }
   ],
   "source": [
    "[i.text for i in txt.xpath('preceding-sibling::index[@ref=\"M_0003229\"]')]"
   ]
  },
  {
   "cell_type": "code",
   "execution_count": 41,
   "metadata": {
    "ExecuteTime": {
     "end_time": "2020-02-26T11:20:43.078962Z",
     "start_time": "2020-02-26T11:20:43.076572Z"
    }
   },
   "outputs": [],
   "source": [
    "from lxml import etree\n",
    "from io import StringIO, BytesIO"
   ]
  },
  {
   "cell_type": "code",
   "execution_count": 37,
   "metadata": {
    "ExecuteTime": {
     "end_time": "2020-02-26T11:18:53.849497Z",
     "start_time": "2020-02-26T11:18:53.846986Z"
    }
   },
   "outputs": [],
   "source": [
    "parser = etree.XMLParser()"
   ]
  },
  {
   "cell_type": "code",
   "execution_count": 46,
   "metadata": {
    "ExecuteTime": {
     "end_time": "2020-02-26T11:26:08.129308Z",
     "start_time": "2020-02-26T11:26:08.123056Z"
    }
   },
   "outputs": [],
   "source": [
    "tree = etree.parse(StringIO('<p>'+sillok['paragraph'][0]+'</p>'))\n",
    "root = tree.getroot()"
   ]
  },
  {
   "cell_type": "code",
   "execution_count": 56,
   "metadata": {
    "ExecuteTime": {
     "end_time": "2020-02-26T11:46:57.482547Z",
     "start_time": "2020-02-26T11:46:57.479067Z"
    }
   },
   "outputs": [
    {
     "name": "stdout",
     "output_type": "stream",
     "text": [
      "b'<p>&#38515;&#36032;&#26178;&#24046;&#20633;&#23448;&#20197;&#19979;, &#26045;&#36062;&#26377;&#24046;&#12290; &#31150;&#25151;&#25215;&#26088;<index num=\"1953057_0\" ref=\"M_0005439\" sort=\"K\" type=\"&#51060;&#47492;\">&#26446;&#37804;&#20426;</index>&#12289;&#23565;&#25831;&#25215;&#26088;<index num=\"1953058_0\" ref=\"M_0026863\" sort=\"K\" type=\"&#51060;&#47492;\">&#36249;&#23493;&#29166;</index>&#12289;&#23459;&#25934;&#23448;<index num=\"1953059_0\" ref=\"M_0027023\" sort=\"K\" type=\"&#51060;&#47492;\">&#37165;&#35609;&#26893;</index>&#12289;&#24038;&#36890;&#31150;<index num=\"1953060_0\" ref=\"M_0026297\" sort=\"K\" type=\"&#51060;&#47492;\">&#37329;&#23447;&#27888;</index>&#12289;&#21491;&#36890;&#31150;<index num=\"1953061_0\" ref=\"M_0004921\" sort=\"K\" type=\"&#51060;&#47492;\">&#26446;&#25033;&#36784;</index>, &#31453;&#21152;&#36039;&#12290; &#37117;&#25215;&#26088;<index num=\"1953062_0\" ref=\"M_0003229\" sort=\"K\" type=\"&#51060;&#47492;\">&#27784;&#25215;&#28580;</index>&#12289;&#25142;&#26361;&#21443;&#21028;<index num=\"1953063_0\" ref=\"M_0003410\" sort=\"K\" type=\"&#51060;&#47492;\">&#22196;&#37675;&#40718;</index>, &#30334;&#23448;&#21152;&#35242;&#25480;&#12290; </p>\\n'\n"
     ]
    }
   ],
   "source": [
    "print(etree.tostring(tree.getroot(), pretty_print=True, method='html'))"
   ]
  },
  {
   "cell_type": "code",
   "execution_count": 126,
   "metadata": {
    "ExecuteTime": {
     "end_time": "2020-02-26T12:20:13.357281Z",
     "start_time": "2020-02-26T12:20:09.966906Z"
    }
   },
   "outputs": [
    {
     "data": {
      "text/plain": [
       "0                                   {,}\n",
       "1                              {,, /:,}\n",
       "2                     {\",, ,, \"\", :, \"}\n",
       "3                         {:, \",, \", ,}\n",
       "4                         {:, \",, \", ,}\n",
       "                      ...              \n",
       "384274             {;, ?\", \",, ,, :, \"}\n",
       "384275                   {:, \",, ?\", ,}\n",
       "384276                               {}\n",
       "384277                          {,, /,}\n",
       "384278    {\"?\", ?, ,, \",, \":, /,, :, \"}\n",
       "Name: chinese, Length: 384279, dtype: object"
      ]
     },
     "execution_count": 126,
     "metadata": {},
     "output_type": "execute_result"
    }
   ],
   "source": [
    "res = set()\n",
    "for i in sillok['chinese'].str.replace(r'[^\\x00-\\x7F]+', '').apply(lambda x: set(x.split())).index:\n"
   ]
  },
  {
   "cell_type": "code",
   "execution_count": 130,
   "metadata": {
    "ExecuteTime": {
     "end_time": "2020-02-26T12:24:55.492198Z",
     "start_time": "2020-02-26T12:24:55.488397Z"
    }
   },
   "outputs": [
    {
     "data": {
      "text/plain": [
       "['test']"
      ]
     },
     "execution_count": 130,
     "metadata": {},
     "output_type": "execute_result"
    }
   ],
   "source": [
    "'test'"
   ]
  },
  {
   "cell_type": "code",
   "execution_count": 193,
   "metadata": {
    "ExecuteTime": {
     "end_time": "2020-02-26T13:19:27.062333Z",
     "start_time": "2020-02-26T13:19:27.051295Z"
    },
    "scrolled": false
   },
   "outputs": [
    {
     "data": {
      "text/plain": [
       "109"
      ]
     },
     "execution_count": 193,
     "metadata": {},
     "output_type": "execute_result"
    }
   ],
   "source": [
    "p = '''<p>○乙丑/上御別殿。 領事<index num=\"1000512_0\" ref=\"M_0003630\" sort=\"K\" type=\"이름\">柳成龍</index>、知事<index num=\"1000513_0\" ref=\"M_0061334\" sort=\"K\" type=\"이름\">洪進</index>、特進官<index num=\"1000514_0\" ref=\"M_0049182\" sort=\"K\" type=\"이름\">申磼</index>ㆍ宋言愼、參贊官<index num=\"1000515_0\" ref=\"M_0006601\" sort=\"K\" type=\"이름\">洪世恭</index>ㆍ<index num=\"1000516_0\" ref=\"M_0005431\" sort=\"K\" type=\"이름\">李好閔</index>、執義<index num=\"1000517_0\" ref=\"M_0001736\" sort=\"K\" type=\"이름\">金時獻</index>、司諫<index num=\"1000518_0\" ref=\"M_0002037\" sort=\"K\" type=\"이름\">金弘微</index>、檢討官<index num=\"1000519_0\" sort=\"K\" type=\"이름\">鄭㷤</index>、記事官<index num=\"1000520_0\" ref=\"M_0056678\" sort=\"K\" type=\"이름\">趙濈</index>ㆍ<index num=\"1000521_0\" ref=\"M_0000861\" sort=\"K\" type=\"이름\">張晩</index>ㆍ<index num=\"1000522_0\" ref=\"M_0003584\" sort=\"K\" type=\"이름\">柳慶宗</index>入侍, 上講<index num=\"1000523_0\" sort=\"K\" type=\"이름\">周易</index>。 <index num=\"1000524_0\" ref=\"M_0003630\" sort=\"K\" type=\"이름\">成龍</index>曰: \"自上欲爲展謁太廟, 人皆以爲感激, 但列聖座次, 當初倉卒不能講定。 頃者<index num=\"1000525_0\" ref=\"M_0061334\" sort=\"K\" type=\"이름\">洪進</index>奉審時, 入而見之, 最爲未安。 不得已先定座次, 然後親祭可矣。\" <index num=\"1000526_0\" ref=\"M_0061334\" sort=\"K\" type=\"이름\">洪進</index>曰: \"臣與<index num=\"1000527_0\" ref=\"M_0003630\" sort=\"K\" type=\"이름\">成龍</index>奉審, 以圖形進入矣。 大槪十室, 以西爲上, 而其室之制不長, 不能一行而爲座次, 故回坐於越邊, 所見未安故敢達。\" 上曰: \"禮曹與大臣議爲。\" <index num=\"1000528_0\" ref=\"M_0061334\" sort=\"K\" type=\"이름\">洪進</index>曰: \"小臣之意, 以爲如昭穆之制可也。 連作一室於其外, 則可坐如昭穆。\" <index num=\"1000529_0\" ref=\"M_0003630\" sort=\"K\" type=\"이름\">成龍</index>曰: \"今者日寒, 親祭前, 恐不可爲也。\" 上曰: \"今此<index num=\"1000530_0\" sort=\"J\" type=\"지명\">倭賊</index>不退, 不擊則我國不可保矣。 設使<index num=\"1000531_0\" sort=\"J\" type=\"지명\">倭</index>雖撤退, 後必更來, 我國人情, 謂其一去, 則不復出來云, 可笑。 明春兇謀, 不可測矣。\" 上曰: \"<index num=\"1000532_0\" ref=\"M_0032544\" sort=\"A\" type=\"이름\">孫經略</index>爲我國題本云, 卿見之乎?\" <index num=\"1000533_0\" ref=\"M_0003630\" sort=\"K\" type=\"이름\">成龍</index>曰: \"不見矣。\" 上曰: \"大臣不得見乎?\" <index num=\"1000534_0\" ref=\"M_0003630\" sort=\"K\" type=\"이름\">成龍</index>曰: \"小臣連有病故, 不得來見矣。\" 上曰: \"承旨<annotation type=\"원주\">                 <noteContent>【<index num=\"1000535_0\" ref=\"M_0006601\" sort=\"K\" type=\"이름\">洪世恭</index>。】</noteContent>               </annotation>亦見乎?\" <index num=\"1000536_0\" ref=\"M_0006601\" sort=\"K\" type=\"이름\">世恭</index>曰: \"暫見矣。\" 上曰: \"其意以爲, 中原、我國, 形勢相倚, <index num=\"1000537_0\" sort=\"J\" type=\"지명\">倭賊</index>之來, 若先保<index num=\"1000538_0\" sort=\"K\" type=\"지명\">朝鮮</index>, 則中原可無憂, 而<index num=\"1000539_0\" sort=\"K\" type=\"지명\">中</index>朝若盡力防賊, 則<index num=\"1000540_0\" sort=\"K\" type=\"지명\">朝鮮</index>亦必有德色矣。 軍糧不足, 則<index num=\"1000541_0\" sort=\"M\" type=\"지명\">金</index>、<index num=\"1000542_0\" sort=\"K\" type=\"지명\">覆</index>、<index num=\"1000543_0\" sort=\"K\" type=\"지명\">海</index>、<index num=\"1000544_0\" sort=\"K\" type=\"지명\">蓋</index>               <annotation type=\"원주\">                 <noteContent>【四州名。】</noteContent>               </annotation>之粟, 移於<index num=\"1000545_0\" sort=\"K\" type=\"지명\">平壤</index>, <index num=\"1000546_0\" sort=\"M\" type=\"지명\">遼東</index>之穀, 移於<index num=\"1000547_0\" sort=\"K\" type=\"지명\">義州</index>云云。 此必有守<index num=\"1000548_0\" sort=\"K\" type=\"지명\">朝鮮</index>之意。 兵部奉聖旨, 已定其軍糧之數云矣。\" <index num=\"1000549_0\" ref=\"M_0049182\" sort=\"K\" type=\"이름\">申磼</index>曰: \"我國鍊兵, 而片箭最爲長技。 頃見官射, 則武人十人, 無一人射片箭者, 極爲可慮。 如欲鍊兵, 則片箭之技, 當爲培養可矣。\" 上曰: \"<index num=\"1000550_0\" sort=\"J\" type=\"지명\">倭</index>使出來, 何以爲之?\" <index num=\"1000551_0\" ref=\"M_0005431\" sort=\"K\" type=\"이름\">好閔</index>曰: \"奏文請禁約使。 若然則可制矣。\" 上曰: \"禁約使能縶<index num=\"1000552_0\" sort=\"J\" type=\"지명\">倭</index>之手足乎? 其號令不能行矣。\" <index num=\"1000553_0\" ref=\"M_0005431\" sort=\"K\" type=\"이름\">好閔</index>曰: \"禁約事, 不可不爲於奏文中也。 上曰: \"渠之兇謀, 不可測也。 若擧窟穴出來, 直向中原, 則不可說也。\" <index num=\"1000554_0\" ref=\"M_0005431\" sort=\"K\" type=\"이름\">好閔</index>曰: \"渠雖無此意, 在我之備, 不可忽也。\" 上曰: \"當今之務, 莫如收用賢才。 其外無他策。\" <index num=\"1000555_0\" ref=\"M_0003630\" sort=\"K\" type=\"이름\">成龍</index>曰: \"小臣當此時, 不可堪任, 而冒據至此, 晝夜憂悶而已。 大槪用人之道, 明賞罰爲貴。 彈劾之事, 或出於風聞, 則爲臺諫者, 當仔細聞見, 然後可以論啓。 且守令, 親民之官, 若頻數遞改, 只貽送迎之弊, 而何能責其成效乎。\" 上曰: \"刷馬之弊多矣。 各驛無復立之策乎?\" <index num=\"1000556_0\" ref=\"M_0003630\" sort=\"K\" type=\"이름\">成龍</index>曰: \"聞<index num=\"1000557_0\" sort=\"K\" type=\"지명\">黃海道</index>刷馬有弊。 頃見<index num=\"1000558_0\" ref=\"M_0005678\" sort=\"K\" type=\"이름\">張雲翼</index>狀啓, 摘出其中奸濫者治之, 故無刷馬之弊云矣。\" <index num=\"1000559_0\" ref=\"M_0002037\" sort=\"K\" type=\"이름\">弘微</index>曰: \"科擧之事, 最關國家, 而亂離以後, 文敎廢墜, 閭巷之間, 未見挾冊童子, 此極寒心。 頃出童蒙訓導, 責之以敎誨, 則異日作成之化, 猶或可望矣。\" <index num=\"1000560_0\" ref=\"M_0001736\" sort=\"K\" type=\"이름\">時獻</index>曰: \"國家恢復, 以武備而爲之者不多, 而只在於維持文敎一事而已。 近來學校頹廢, 人不讀書, 振作培養之典, 蔑爾無聞。 自上每下敎於銓曹, 欲得人材, 而人材必待儲養, 然後乃可得也。 今者文籍散缺, 不可盡備, 不得已爲先措備者, <index num=\"1000561_0\" type=\"서명\">《小學》</index>書也。\" 上曰: \"其板有之乎? 下書求之, 可得以印之乎? 如欲印出, 必有匠人, 備料爲難。\" </p>'''\n",
    "\n",
    "pl = len(html.fromstring(p).xpath('//text()'))\n",
    "pl"
   ]
  },
  {
   "cell_type": "code",
   "execution_count": 195,
   "metadata": {
    "ExecuteTime": {
     "end_time": "2020-02-26T13:22:05.409033Z",
     "start_time": "2020-02-26T13:22:05.404152Z"
    }
   },
   "outputs": [
    {
     "data": {
      "text/plain": [
       "51.0"
      ]
     },
     "execution_count": 195,
     "metadata": {},
     "output_type": "execute_result"
    }
   ],
   "source": []
  },
  {
   "cell_type": "code",
   "execution_count": 198,
   "metadata": {
    "ExecuteTime": {
     "end_time": "2020-02-26T13:24:59.292308Z",
     "start_time": "2020-02-26T13:24:59.266697Z"
    }
   },
   "outputs": [
    {
     "ename": "XPathEvalError",
     "evalue": "Unregistered function",
     "output_type": "error",
     "traceback": [
      "\u001b[0;31m---------------------------------------------------------------------------\u001b[0m",
      "\u001b[0;31mXPathEvalError\u001b[0m                            Traceback (most recent call last)",
      "\u001b[0;32m<ipython-input-198-e4ae2ea38b14>\u001b[0m in \u001b[0;36m<module>\u001b[0;34m\u001b[0m\n\u001b[0;32m----> 1\u001b[0;31m \u001b[0;34m[\u001b[0m\u001b[0mhtml\u001b[0m\u001b[0;34m.\u001b[0m\u001b[0mfromstring\u001b[0m\u001b[0;34m(\u001b[0m\u001b[0mp\u001b[0m\u001b[0;34m)\u001b[0m\u001b[0;34m.\u001b[0m\u001b[0mxpath\u001b[0m\u001b[0;34m(\u001b[0m\u001b[0;34m\"index-of(index[@ref=\"\u001b[0m\u001b[0;34m+\u001b[0m\u001b[0mi\u001b[0m\u001b[0;34m+\u001b[0m\u001b[0;34m\"])\"\u001b[0m\u001b[0;34m)\u001b[0m \u001b[0;32mfor\u001b[0m \u001b[0mi\u001b[0m \u001b[0;32min\u001b[0m \u001b[0mhtml\u001b[0m\u001b[0;34m.\u001b[0m\u001b[0mfromstring\u001b[0m\u001b[0;34m(\u001b[0m\u001b[0mp\u001b[0m\u001b[0;34m)\u001b[0m\u001b[0;34m.\u001b[0m\u001b[0mxpath\u001b[0m\u001b[0;34m(\u001b[0m\u001b[0;34m'index/@ref'\u001b[0m\u001b[0;34m)\u001b[0m\u001b[0;34m]\u001b[0m\u001b[0;34m\u001b[0m\u001b[0;34m\u001b[0m\u001b[0m\n\u001b[0m",
      "\u001b[0;32m<ipython-input-198-e4ae2ea38b14>\u001b[0m in \u001b[0;36m<listcomp>\u001b[0;34m(.0)\u001b[0m\n\u001b[0;32m----> 1\u001b[0;31m \u001b[0;34m[\u001b[0m\u001b[0mhtml\u001b[0m\u001b[0;34m.\u001b[0m\u001b[0mfromstring\u001b[0m\u001b[0;34m(\u001b[0m\u001b[0mp\u001b[0m\u001b[0;34m)\u001b[0m\u001b[0;34m.\u001b[0m\u001b[0mxpath\u001b[0m\u001b[0;34m(\u001b[0m\u001b[0;34m\"index-of(index[@ref=\"\u001b[0m\u001b[0;34m+\u001b[0m\u001b[0mi\u001b[0m\u001b[0;34m+\u001b[0m\u001b[0;34m\"])\"\u001b[0m\u001b[0;34m)\u001b[0m \u001b[0;32mfor\u001b[0m \u001b[0mi\u001b[0m \u001b[0;32min\u001b[0m \u001b[0mhtml\u001b[0m\u001b[0;34m.\u001b[0m\u001b[0mfromstring\u001b[0m\u001b[0;34m(\u001b[0m\u001b[0mp\u001b[0m\u001b[0;34m)\u001b[0m\u001b[0;34m.\u001b[0m\u001b[0mxpath\u001b[0m\u001b[0;34m(\u001b[0m\u001b[0;34m'index/@ref'\u001b[0m\u001b[0;34m)\u001b[0m\u001b[0;34m]\u001b[0m\u001b[0;34m\u001b[0m\u001b[0;34m\u001b[0m\u001b[0m\n\u001b[0m",
      "\u001b[0;32msrc/lxml/etree.pyx\u001b[0m in \u001b[0;36mlxml.etree._Element.xpath\u001b[0;34m()\u001b[0m\n",
      "\u001b[0;32msrc/lxml/xpath.pxi\u001b[0m in \u001b[0;36mlxml.etree.XPathElementEvaluator.__call__\u001b[0;34m()\u001b[0m\n",
      "\u001b[0;32msrc/lxml/xpath.pxi\u001b[0m in \u001b[0;36mlxml.etree._XPathEvaluatorBase._handle_result\u001b[0;34m()\u001b[0m\n",
      "\u001b[0;31mXPathEvalError\u001b[0m: Unregistered function"
     ]
    }
   ],
   "source": [
    "[html.fromstring(p).xpath(\"index-of(index[@ref=\"+i+\"])\") for i in html.fromstring(p).xpath('index/@ref')]"
   ]
  },
  {
   "cell_type": "code",
   "execution_count": 199,
   "metadata": {
    "ExecuteTime": {
     "end_time": "2020-02-26T13:25:59.554456Z",
     "start_time": "2020-02-26T13:25:59.549929Z"
    }
   },
   "outputs": [
    {
     "data": {
      "text/plain": [
       "'<p>○乙丑/上御別殿。 領事<index num=\"1000512_0\" ref=\"M_0003630\" sort=\"K\" type=\"이름\">柳成龍</index>、知事<index num=\"1000513_0\" ref=\"M_0061334\" sort=\"K\" type=\"이름\">洪進</index>、特進官<index num=\"1000514_0\" ref=\"M_0049182\" sort=\"K\" type=\"이름\">申磼</index>ㆍ宋言愼、參贊官<index num=\"1000515_0\" ref=\"M_0006601\" sort=\"K\" type=\"이름\">洪世恭</index>ㆍ<index num=\"1000516_0\" ref=\"M_0005431\" sort=\"K\" type=\"이름\">李好閔</index>、執義<index num=\"1000517_0\" ref=\"M_0001736\" sort=\"K\" type=\"이름\">金時獻</index>、司諫<index num=\"1000518_0\" ref=\"M_0002037\" sort=\"K\" type=\"이름\">金弘微</index>、檢討官<index num=\"1000519_0\" sort=\"K\" type=\"이름\">鄭㷤</index>、記事官<index num=\"1000520_0\" ref=\"M_0056678\" sort=\"K\" type=\"이름\">趙濈</index>ㆍ<index num=\"1000521_0\" ref=\"M_0000861\" sort=\"K\" type=\"이름\">張晩</index>ㆍ<index num=\"1000522_0\" ref=\"M_0003584\" sort=\"K\" type=\"이름\">柳慶宗</index>入侍, 上講<index num=\"1000523_0\" sort=\"K\" type=\"이름\">周易</index>。 <index num=\"1000524_0\" ref=\"M_0003630\" sort=\"K\" type=\"이름\">成龍</index>曰: \"自上欲爲展謁太廟, 人皆以爲感激, 但列聖座次, 當初倉卒不能講定。 頃者<index num=\"1000525_0\" ref=\"M_0061334\" sort=\"K\" type=\"이름\">洪進</index>奉審時, 入而見之, 最爲未安。 不得已先定座次, 然後親祭可矣。\" <index num=\"1000526_0\" ref=\"M_0061334\" sort=\"K\" type=\"이름\">洪進</index>曰: \"臣與<index num=\"1000527_0\" ref=\"M_0003630\" sort=\"K\" type=\"이름\">成龍</index>奉審, 以圖形進入矣。 大槪十室, 以西爲上, 而其室之制不長, 不能一行而爲座次, 故回坐於越邊, 所見未安故敢達。\" 上曰: \"禮曹與大臣議爲。\" <index num=\"1000528_0\" ref=\"M_0061334\" sort=\"K\" type=\"이름\">洪進</index>曰: \"小臣之意, 以爲如昭穆之制可也。 連作一室於其外, 則可坐如昭穆。\" <index num=\"1000529_0\" ref=\"M_0003630\" sort=\"K\" type=\"이름\">成龍</index>曰: \"今者日寒, 親祭前, 恐不可爲也。\" 上曰: \"今此<index num=\"1000530_0\" sort=\"J\" type=\"지명\">倭賊</index>不退, 不擊則我國不可保矣。 設使<index num=\"1000531_0\" sort=\"J\" type=\"지명\">倭</index>雖撤退, 後必更來, 我國人情, 謂其一去, 則不復出來云, 可笑。 明春兇謀, 不可測矣。\" 上曰: \"<index num=\"1000532_0\" ref=\"M_0032544\" sort=\"A\" type=\"이름\">孫經略</index>爲我國題本云, 卿見之乎?\" <index num=\"1000533_0\" ref=\"M_0003630\" sort=\"K\" type=\"이름\">成龍</index>曰: \"不見矣。\" 上曰: \"大臣不得見乎?\" <index num=\"1000534_0\" ref=\"M_0003630\" sort=\"K\" type=\"이름\">成龍</index>曰: \"小臣連有病故, 不得來見矣。\" 上曰: \"承旨<annotation type=\"원주\">                 <noteContent>【<index num=\"1000535_0\" ref=\"M_0006601\" sort=\"K\" type=\"이름\">洪世恭</index>。】</noteContent>               </annotation>亦見乎?\" <index num=\"1000536_0\" ref=\"M_0006601\" sort=\"K\" type=\"이름\">世恭</index>曰: \"暫見矣。\" 上曰: \"其意以爲, 中原、我國, 形勢相倚, <index num=\"1000537_0\" sort=\"J\" type=\"지명\">倭賊</index>之來, 若先保<index num=\"1000538_0\" sort=\"K\" type=\"지명\">朝鮮</index>, 則中原可無憂, 而<index num=\"1000539_0\" sort=\"K\" type=\"지명\">中</index>朝若盡力防賊, 則<index num=\"1000540_0\" sort=\"K\" type=\"지명\">朝鮮</index>亦必有德色矣。 軍糧不足, 則<index num=\"1000541_0\" sort=\"M\" type=\"지명\">金</index>、<index num=\"1000542_0\" sort=\"K\" type=\"지명\">覆</index>、<index num=\"1000543_0\" sort=\"K\" type=\"지명\">海</index>、<index num=\"1000544_0\" sort=\"K\" type=\"지명\">蓋</index>               <annotation type=\"원주\">                 <noteContent>【四州名。】</noteContent>               </annotation>之粟, 移於<index num=\"1000545_0\" sort=\"K\" type=\"지명\">平壤</index>, <index num=\"1000546_0\" sort=\"M\" type=\"지명\">遼東</index>之穀, 移於<index num=\"1000547_0\" sort=\"K\" type=\"지명\">義州</index>云云。 此必有守<index num=\"1000548_0\" sort=\"K\" type=\"지명\">朝鮮</index>之意。 兵部奉聖旨, 已定其軍糧之數云矣。\" <index num=\"1000549_0\" ref=\"M_0049182\" sort=\"K\" type=\"이름\">申磼</index>曰: \"我國鍊兵, 而片箭最爲長技。 頃見官射, 則武人十人, 無一人射片箭者, 極爲可慮。 如欲鍊兵, 則片箭之技, 當爲培養可矣。\" 上曰: \"<index num=\"1000550_0\" sort=\"J\" type=\"지명\">倭</index>使出來, 何以爲之?\" <index num=\"1000551_0\" ref=\"M_0005431\" sort=\"K\" type=\"이름\">好閔</index>曰: \"奏文請禁約使。 若然則可制矣。\" 上曰: \"禁約使能縶<index num=\"1000552_0\" sort=\"J\" type=\"지명\">倭</index>之手足乎? 其號令不能行矣。\" <index num=\"1000553_0\" ref=\"M_0005431\" sort=\"K\" type=\"이름\">好閔</index>曰: \"禁約事, 不可不爲於奏文中也。 上曰: \"渠之兇謀, 不可測也。 若擧窟穴出來, 直向中原, 則不可說也。\" <index num=\"1000554_0\" ref=\"M_0005431\" sort=\"K\" type=\"이름\">好閔</index>曰: \"渠雖無此意, 在我之備, 不可忽也。\" 上曰: \"當今之務, 莫如收用賢才。 其外無他策。\" <index num=\"1000555_0\" ref=\"M_0003630\" sort=\"K\" type=\"이름\">成龍</index>曰: \"小臣當此時, 不可堪任, 而冒據至此, 晝夜憂悶而已。 大槪用人之道, 明賞罰爲貴。 彈劾之事, 或出於風聞, 則爲臺諫者, 當仔細聞見, 然後可以論啓。 且守令, 親民之官, 若頻數遞改, 只貽送迎之弊, 而何能責其成效乎。\" 上曰: \"刷馬之弊多矣。 各驛無復立之策乎?\" <index num=\"1000556_0\" ref=\"M_0003630\" sort=\"K\" type=\"이름\">成龍</index>曰: \"聞<index num=\"1000557_0\" sort=\"K\" type=\"지명\">黃海道</index>刷馬有弊。 頃見<index num=\"1000558_0\" ref=\"M_0005678\" sort=\"K\" type=\"이름\">張雲翼</index>狀啓, 摘出其中奸濫者治之, 故無刷馬之弊云矣。\" <index num=\"1000559_0\" ref=\"M_0002037\" sort=\"K\" type=\"이름\">弘微</index>曰: \"科擧之事, 最關國家, 而亂離以後, 文敎廢墜, 閭巷之間, 未見挾冊童子, 此極寒心。 頃出童蒙訓導, 責之以敎誨, 則異日作成之化, 猶或可望矣。\" <index num=\"1000560_0\" ref=\"M_0001736\" sort=\"K\" type=\"이름\">時獻</index>曰: \"國家恢復, 以武備而爲之者不多, 而只在於維持文敎一事而已。 近來學校頹廢, 人不讀書, 振作培養之典, 蔑爾無聞。 自上每下敎於銓曹, 欲得人材, 而人材必待儲養, 然後乃可得也。 今者文籍散缺, 不可盡備, 不得已爲先措備者, <index num=\"1000561_0\" type=\"서명\">《小學》</index>書也。\" 上曰: \"其板有之乎? 下書求之, 可得以印之乎? 如欲印出, 必有匠人, 備料爲難。\" </p>'"
      ]
     },
     "execution_count": 199,
     "metadata": {},
     "output_type": "execute_result"
    }
   ],
   "source": [
    "p"
   ]
  },
  {
   "cell_type": "code",
   "execution_count": 203,
   "metadata": {
    "ExecuteTime": {
     "end_time": "2020-02-26T13:28:07.779014Z",
     "start_time": "2020-02-26T13:28:07.766329Z"
    },
    "scrolled": false
   },
   "outputs": [
    {
     "data": {
      "text/plain": [
       "['○乙丑/上御別殿。 領事',\n",
       " '柳成龍',\n",
       " '、知事',\n",
       " '洪進',\n",
       " '、特進官',\n",
       " '申磼',\n",
       " 'ㆍ宋言愼、參贊官',\n",
       " '洪世恭',\n",
       " 'ㆍ',\n",
       " '李好閔',\n",
       " '、執義',\n",
       " '金時獻',\n",
       " '、司諫',\n",
       " '金弘微',\n",
       " '、檢討官',\n",
       " '鄭㷤',\n",
       " '、記事官',\n",
       " '趙濈',\n",
       " 'ㆍ',\n",
       " '張晩',\n",
       " 'ㆍ',\n",
       " '柳慶宗',\n",
       " '入侍, 上講',\n",
       " '周易',\n",
       " '。 ',\n",
       " '成龍',\n",
       " '曰: \"自上欲爲展謁太廟, 人皆以爲感激, 但列聖座次, 當初倉卒不能講定。 頃者',\n",
       " '洪進',\n",
       " '奉審時, 入而見之, 最爲未安。 不得已先定座次, 然後親祭可矣。\" ',\n",
       " '洪進',\n",
       " '曰: \"臣與',\n",
       " '成龍',\n",
       " '奉審, 以圖形進入矣。 大槪十室, 以西爲上, 而其室之制不長, 不能一行而爲座次, 故回坐於越邊, 所見未安故敢達。\" 上曰: \"禮曹與大臣議爲。\" ',\n",
       " '洪進',\n",
       " '曰: \"小臣之意, 以爲如昭穆之制可也。 連作一室於其外, 則可坐如昭穆。\" ',\n",
       " '成龍',\n",
       " '曰: \"今者日寒, 親祭前, 恐不可爲也。\" 上曰: \"今此',\n",
       " '倭賊',\n",
       " '不退, 不擊則我國不可保矣。 設使',\n",
       " '倭',\n",
       " '雖撤退, 後必更來, 我國人情, 謂其一去, 則不復出來云, 可笑。 明春兇謀, 不可測矣。\" 上曰: \"',\n",
       " '孫經略',\n",
       " '爲我國題本云, 卿見之乎?\" ',\n",
       " '成龍',\n",
       " '曰: \"不見矣。\" 上曰: \"大臣不得見乎?\" ',\n",
       " '成龍',\n",
       " '曰: \"小臣連有病故, 不得來見矣。\" 上曰: \"承旨',\n",
       " '                 ',\n",
       " '【',\n",
       " '洪世恭',\n",
       " '。】',\n",
       " '               ',\n",
       " '亦見乎?\" ',\n",
       " '世恭',\n",
       " '曰: \"暫見矣。\" 上曰: \"其意以爲, 中原、我國, 形勢相倚, ',\n",
       " '倭賊',\n",
       " '之來, 若先保',\n",
       " '朝鮮',\n",
       " ', 則中原可無憂, 而',\n",
       " '中',\n",
       " '朝若盡力防賊, 則',\n",
       " '朝鮮',\n",
       " '亦必有德色矣。 軍糧不足, 則',\n",
       " '金',\n",
       " '、',\n",
       " '覆',\n",
       " '、',\n",
       " '海',\n",
       " '、',\n",
       " '蓋',\n",
       " '               ',\n",
       " '                 ',\n",
       " '【四州名。】',\n",
       " '               ',\n",
       " '之粟, 移於',\n",
       " '平壤',\n",
       " ', ',\n",
       " '遼東',\n",
       " '之穀, 移於',\n",
       " '義州',\n",
       " '云云。 此必有守',\n",
       " '朝鮮',\n",
       " '之意。 兵部奉聖旨, 已定其軍糧之數云矣。\" ',\n",
       " '申磼',\n",
       " '曰: \"我國鍊兵, 而片箭最爲長技。 頃見官射, 則武人十人, 無一人射片箭者, 極爲可慮。 如欲鍊兵, 則片箭之技, 當爲培養可矣。\" 上曰: \"',\n",
       " '倭',\n",
       " '使出來, 何以爲之?\" ',\n",
       " '好閔',\n",
       " '曰: \"奏文請禁約使。 若然則可制矣。\" 上曰: \"禁約使能縶',\n",
       " '倭',\n",
       " '之手足乎? 其號令不能行矣。\" ',\n",
       " '好閔',\n",
       " '曰: \"禁約事, 不可不爲於奏文中也。 上曰: \"渠之兇謀, 不可測也。 若擧窟穴出來, 直向中原, 則不可說也。\" ',\n",
       " '好閔',\n",
       " '曰: \"渠雖無此意, 在我之備, 不可忽也。\" 上曰: \"當今之務, 莫如收用賢才。 其外無他策。\" ',\n",
       " '成龍',\n",
       " '曰: \"小臣當此時, 不可堪任, 而冒據至此, 晝夜憂悶而已。 大槪用人之道, 明賞罰爲貴。 彈劾之事, 或出於風聞, 則爲臺諫者, 當仔細聞見, 然後可以論啓。 且守令, 親民之官, 若頻數遞改, 只貽送迎之弊, 而何能責其成效乎。\" 上曰: \"刷馬之弊多矣。 各驛無復立之策乎?\" ',\n",
       " '成龍',\n",
       " '曰: \"聞',\n",
       " '黃海道',\n",
       " '刷馬有弊。 頃見',\n",
       " '張雲翼',\n",
       " '狀啓, 摘出其中奸濫者治之, 故無刷馬之弊云矣。\" ',\n",
       " '弘微',\n",
       " '曰: \"科擧之事, 最關國家, 而亂離以後, 文敎廢墜, 閭巷之間, 未見挾冊童子, 此極寒心。 頃出童蒙訓導, 責之以敎誨, 則異日作成之化, 猶或可望矣。\" ',\n",
       " '時獻',\n",
       " '曰: \"國家恢復, 以武備而爲之者不多, 而只在於維持文敎一事而已。 近來學校頹廢, 人不讀書, 振作培養之典, 蔑爾無聞。 自上每下敎於銓曹, 欲得人材, 而人材必待儲養, 然後乃可得也。 今者文籍散缺, 不可盡備, 不得已爲先措備者, ',\n",
       " '《小學》',\n",
       " '書也。\" 上曰: \"其板有之乎? 下書求之, 可得以印之乎? 如欲印出, 必有匠人, 備料爲難。\" ']"
      ]
     },
     "execution_count": 203,
     "metadata": {},
     "output_type": "execute_result"
    }
   ],
   "source": [
    "[i for i in html.fromstring(p).xpath('//text()')]"
   ]
  },
  {
   "cell_type": "code",
   "execution_count": 240,
   "metadata": {
    "ExecuteTime": {
     "end_time": "2020-02-26T14:08:17.302176Z",
     "start_time": "2020-02-26T14:08:17.291362Z"
    }
   },
   "outputs": [],
   "source": [
    "pr = ''\n",
    "tglist = re.findall('<index.*?>.+?</index>',p)\n",
    "nmlist = re.findall('<index.*?>(.+?)</index>',p)\n",
    "for i, j in enumerate(html.fromstring(p).xpath('//text()')):\n",
    "    if j in nmlist:\n",
    "        s = tglist[nmlist.index(j)]\n",
    "        tglist.pop(nmlist.index(j))\n",
    "        nmlist.pop(nmlist.index(j))\n",
    "    else:\n",
    "        s = '<c>'+j+'</c>'\n",
    "    pr += s"
   ]
  },
  {
   "cell_type": "code",
   "execution_count": 241,
   "metadata": {
    "ExecuteTime": {
     "end_time": "2020-02-26T14:08:20.052783Z",
     "start_time": "2020-02-26T14:08:20.049233Z"
    }
   },
   "outputs": [
    {
     "data": {
      "text/plain": [
       "'<c>○乙丑/上御別殿。 領事</c><index num=\"1000512_0\" ref=\"M_0003630\" sort=\"K\" type=\"이름\">柳成龍</index><c>、知事</c><index num=\"1000513_0\" ref=\"M_0061334\" sort=\"K\" type=\"이름\">洪進</index><c>、特進官</c><index num=\"1000514_0\" ref=\"M_0049182\" sort=\"K\" type=\"이름\">申磼</index><c>ㆍ宋言愼、參贊官</c><index num=\"1000515_0\" ref=\"M_0006601\" sort=\"K\" type=\"이름\">洪世恭</index><c>ㆍ</c><index num=\"1000516_0\" ref=\"M_0005431\" sort=\"K\" type=\"이름\">李好閔</index><c>、執義</c><index num=\"1000517_0\" ref=\"M_0001736\" sort=\"K\" type=\"이름\">金時獻</index><c>、司諫</c><index num=\"1000518_0\" ref=\"M_0002037\" sort=\"K\" type=\"이름\">金弘微</index><c>、檢討官</c><index num=\"1000519_0\" sort=\"K\" type=\"이름\">鄭㷤</index><c>、記事官</c><index num=\"1000520_0\" ref=\"M_0056678\" sort=\"K\" type=\"이름\">趙濈</index><c>ㆍ</c><index num=\"1000521_0\" ref=\"M_0000861\" sort=\"K\" type=\"이름\">張晩</index><c>ㆍ</c><index num=\"1000522_0\" ref=\"M_0003584\" sort=\"K\" type=\"이름\">柳慶宗</index><c>入侍, 上講</c><index num=\"1000523_0\" sort=\"K\" type=\"이름\">周易</index><c>。 </c><index num=\"1000524_0\" ref=\"M_0003630\" sort=\"K\" type=\"이름\">成龍</index><c>曰: \"自上欲爲展謁太廟, 人皆以爲感激, 但列聖座次, 當初倉卒不能講定。 頃者</c><index num=\"1000525_0\" ref=\"M_0061334\" sort=\"K\" type=\"이름\">洪進</index><c>奉審時, 入而見之, 最爲未安。 不得已先定座次, 然後親祭可矣。\" </c><index num=\"1000526_0\" ref=\"M_0061334\" sort=\"K\" type=\"이름\">洪進</index><c>曰: \"臣與</c><index num=\"1000527_0\" ref=\"M_0003630\" sort=\"K\" type=\"이름\">成龍</index><c>奉審, 以圖形進入矣。 大槪十室, 以西爲上, 而其室之制不長, 不能一行而爲座次, 故回坐於越邊, 所見未安故敢達。\" 上曰: \"禮曹與大臣議爲。\" </c><index num=\"1000528_0\" ref=\"M_0061334\" sort=\"K\" type=\"이름\">洪進</index><c>曰: \"小臣之意, 以爲如昭穆之制可也。 連作一室於其外, 則可坐如昭穆。\" </c><index num=\"1000529_0\" ref=\"M_0003630\" sort=\"K\" type=\"이름\">成龍</index><c>曰: \"今者日寒, 親祭前, 恐不可爲也。\" 上曰: \"今此</c><index num=\"1000530_0\" sort=\"J\" type=\"지명\">倭賊</index><c>不退, 不擊則我國不可保矣。 設使</c><index num=\"1000531_0\" sort=\"J\" type=\"지명\">倭</index><c>雖撤退, 後必更來, 我國人情, 謂其一去, 則不復出來云, 可笑。 明春兇謀, 不可測矣。\" 上曰: \"</c><index num=\"1000532_0\" ref=\"M_0032544\" sort=\"A\" type=\"이름\">孫經略</index><c>爲我國題本云, 卿見之乎?\" </c><index num=\"1000533_0\" ref=\"M_0003630\" sort=\"K\" type=\"이름\">成龍</index><c>曰: \"不見矣。\" 上曰: \"大臣不得見乎?\" </c><index num=\"1000534_0\" ref=\"M_0003630\" sort=\"K\" type=\"이름\">成龍</index><c>曰: \"小臣連有病故, 不得來見矣。\" 上曰: \"承旨</c><c>                 </c><c>【</c><index num=\"1000535_0\" ref=\"M_0006601\" sort=\"K\" type=\"이름\">洪世恭</index><c>。】</c><c>               </c><c>亦見乎?\" </c><index num=\"1000536_0\" ref=\"M_0006601\" sort=\"K\" type=\"이름\">世恭</index><c>曰: \"暫見矣。\" 上曰: \"其意以爲, 中原、我國, 形勢相倚, </c><index num=\"1000537_0\" sort=\"J\" type=\"지명\">倭賊</index><c>之來, 若先保</c><index num=\"1000538_0\" sort=\"K\" type=\"지명\">朝鮮</index><c>, 則中原可無憂, 而</c><index num=\"1000539_0\" sort=\"K\" type=\"지명\">中</index><c>朝若盡力防賊, 則</c><index num=\"1000540_0\" sort=\"K\" type=\"지명\">朝鮮</index><c>亦必有德色矣。 軍糧不足, 則</c><index num=\"1000541_0\" sort=\"M\" type=\"지명\">金</index><c>、</c><index num=\"1000542_0\" sort=\"K\" type=\"지명\">覆</index><c>、</c><index num=\"1000543_0\" sort=\"K\" type=\"지명\">海</index><c>、</c><index num=\"1000544_0\" sort=\"K\" type=\"지명\">蓋</index><c>               </c><c>                 </c><c>【四州名。】</c><c>               </c><c>之粟, 移於</c><index num=\"1000545_0\" sort=\"K\" type=\"지명\">平壤</index><c>, </c><index num=\"1000546_0\" sort=\"M\" type=\"지명\">遼東</index><c>之穀, 移於</c><index num=\"1000547_0\" sort=\"K\" type=\"지명\">義州</index><c>云云。 此必有守</c><index num=\"1000548_0\" sort=\"K\" type=\"지명\">朝鮮</index><c>之意。 兵部奉聖旨, 已定其軍糧之數云矣。\" </c><index num=\"1000549_0\" ref=\"M_0049182\" sort=\"K\" type=\"이름\">申磼</index><c>曰: \"我國鍊兵, 而片箭最爲長技。 頃見官射, 則武人十人, 無一人射片箭者, 極爲可慮。 如欲鍊兵, 則片箭之技, 當爲培養可矣。\" 上曰: \"</c><index num=\"1000550_0\" sort=\"J\" type=\"지명\">倭</index><c>使出來, 何以爲之?\" </c><index num=\"1000551_0\" ref=\"M_0005431\" sort=\"K\" type=\"이름\">好閔</index><c>曰: \"奏文請禁約使。 若然則可制矣。\" 上曰: \"禁約使能縶</c><index num=\"1000552_0\" sort=\"J\" type=\"지명\">倭</index><c>之手足乎? 其號令不能行矣。\" </c><index num=\"1000553_0\" ref=\"M_0005431\" sort=\"K\" type=\"이름\">好閔</index><c>曰: \"禁約事, 不可不爲於奏文中也。 上曰: \"渠之兇謀, 不可測也。 若擧窟穴出來, 直向中原, 則不可說也。\" </c><index num=\"1000554_0\" ref=\"M_0005431\" sort=\"K\" type=\"이름\">好閔</index><c>曰: \"渠雖無此意, 在我之備, 不可忽也。\" 上曰: \"當今之務, 莫如收用賢才。 其外無他策。\" </c><index num=\"1000555_0\" ref=\"M_0003630\" sort=\"K\" type=\"이름\">成龍</index><c>曰: \"小臣當此時, 不可堪任, 而冒據至此, 晝夜憂悶而已。 大槪用人之道, 明賞罰爲貴。 彈劾之事, 或出於風聞, 則爲臺諫者, 當仔細聞見, 然後可以論啓。 且守令, 親民之官, 若頻數遞改, 只貽送迎之弊, 而何能責其成效乎。\" 上曰: \"刷馬之弊多矣。 各驛無復立之策乎?\" </c><index num=\"1000556_0\" ref=\"M_0003630\" sort=\"K\" type=\"이름\">成龍</index><c>曰: \"聞</c><index num=\"1000557_0\" sort=\"K\" type=\"지명\">黃海道</index><c>刷馬有弊。 頃見</c><index num=\"1000558_0\" ref=\"M_0005678\" sort=\"K\" type=\"이름\">張雲翼</index><c>狀啓, 摘出其中奸濫者治之, 故無刷馬之弊云矣。\" </c><index num=\"1000559_0\" ref=\"M_0002037\" sort=\"K\" type=\"이름\">弘微</index><c>曰: \"科擧之事, 最關國家, 而亂離以後, 文敎廢墜, 閭巷之間, 未見挾冊童子, 此極寒心。 頃出童蒙訓導, 責之以敎誨, 則異日作成之化, 猶或可望矣。\" </c><index num=\"1000560_0\" ref=\"M_0001736\" sort=\"K\" type=\"이름\">時獻</index><c>曰: \"國家恢復, 以武備而爲之者不多, 而只在於維持文敎一事而已。 近來學校頹廢, 人不讀書, 振作培養之典, 蔑爾無聞。 自上每下敎於銓曹, 欲得人材, 而人材必待儲養, 然後乃可得也。 今者文籍散缺, 不可盡備, 不得已爲先措備者, </c><index num=\"1000561_0\" type=\"서명\">《小學》</index><c>書也。\" 上曰: \"其板有之乎? 下書求之, 可得以印之乎? 如欲印出, 必有匠人, 備料爲難。\" </c>'"
      ]
     },
     "execution_count": 241,
     "metadata": {},
     "output_type": "execute_result"
    }
   ],
   "source": [
    "pr"
   ]
  },
  {
   "cell_type": "code",
   "execution_count": 228,
   "metadata": {
    "ExecuteTime": {
     "end_time": "2020-02-26T13:47:04.379492Z",
     "start_time": "2020-02-26T13:47:04.370196Z"
    },
    "scrolled": false
   },
   "outputs": [
    {
     "name": "stdout",
     "output_type": "stream",
     "text": [
      "柳成龍\n",
      "洪進\n",
      "申磼\n",
      "洪世恭\n",
      "李好閔\n",
      "金時獻\n",
      "金弘微\n",
      "鄭㷤\n",
      "趙濈\n",
      "張晩\n",
      "柳慶宗\n",
      "周易\n",
      "成龍\n",
      "洪進\n",
      "洪進\n",
      "成龍\n",
      "洪進\n",
      "成龍\n",
      "倭賊\n",
      "倭\n",
      "孫經略\n",
      "成龍\n",
      "成龍\n",
      "                 \n",
      "世恭\n",
      "倭賊\n",
      "朝鮮\n",
      "中\n",
      "朝鮮\n",
      "金\n",
      "覆\n",
      "海\n",
      "蓋\n",
      "                 \n",
      "平壤\n",
      "遼東\n",
      "義州\n",
      "朝鮮\n",
      "申磼\n",
      "倭\n",
      "好閔\n",
      "倭\n",
      "好閔\n",
      "好閔\n",
      "成龍\n",
      "成龍\n",
      "黃海道\n",
      "張雲翼\n",
      "弘微\n",
      "時獻\n",
      "《小學》\n"
     ]
    }
   ],
   "source": [
    "t = ''\n",
    "for i in p\n",
    "    print(i.text)"
   ]
  },
  {
   "cell_type": "code",
   "execution_count": 224,
   "metadata": {
    "ExecuteTime": {
     "end_time": "2020-02-26T13:43:22.484509Z",
     "start_time": "2020-02-26T13:43:22.475514Z"
    },
    "scrolled": true
   },
   "outputs": [
    {
     "data": {
      "text/plain": [
       "['柳成龍',\n",
       " '洪進',\n",
       " '申磼',\n",
       " '洪世恭',\n",
       " '李好閔',\n",
       " '金時獻',\n",
       " '金弘微',\n",
       " '鄭㷤',\n",
       " '趙濈',\n",
       " '張晩',\n",
       " '柳慶宗',\n",
       " '周易',\n",
       " '成龍',\n",
       " '洪進',\n",
       " '洪進',\n",
       " '成龍',\n",
       " '洪進',\n",
       " '成龍',\n",
       " '倭賊',\n",
       " '倭',\n",
       " '孫經略',\n",
       " '成龍',\n",
       " '成龍',\n",
       " '洪世恭',\n",
       " '世恭',\n",
       " '倭賊',\n",
       " '朝鮮',\n",
       " '中',\n",
       " '朝鮮',\n",
       " '金',\n",
       " '覆',\n",
       " '海',\n",
       " '蓋',\n",
       " '平壤',\n",
       " '遼東',\n",
       " '義州',\n",
       " '朝鮮',\n",
       " '申磼',\n",
       " '倭',\n",
       " '好閔',\n",
       " '倭',\n",
       " '好閔',\n",
       " '好閔',\n",
       " '成龍',\n",
       " '成龍',\n",
       " '黃海道',\n",
       " '張雲翼',\n",
       " '弘微',\n",
       " '時獻',\n",
       " '《小學》']"
      ]
     },
     "execution_count": 224,
     "metadata": {},
     "output_type": "execute_result"
    }
   ],
   "source": []
  },
  {
   "cell_type": "code",
   "execution_count": 274,
   "metadata": {
    "ExecuteTime": {
     "end_time": "2020-02-27T04:13:47.750461Z",
     "start_time": "2020-02-27T04:13:46.182809Z"
    }
   },
   "outputs": [],
   "source": []
  },
  {
   "cell_type": "code",
   "execution_count": 299,
   "metadata": {
    "ExecuteTime": {
     "end_time": "2020-02-27T05:27:21.051209Z",
     "start_time": "2020-02-27T05:27:21.042344Z"
    },
    "scrolled": false
   },
   "outputs": [
    {
     "data": {
      "text/plain": [
       "['乙丑',\n",
       " '上御別殿',\n",
       " ' ',\n",
       " '領事',\n",
       " '<index num=\"1000512_0\" ref=\"M_0003630\" sort=\"K\" type=\"이름\">柳成龍</index>',\n",
       " '知事',\n",
       " '<index num=\"1000513_0\" ref=\"M_0061334\" sort=\"K\" type=\"이름\">洪進</index>',\n",
       " '特進官',\n",
       " '<index num=\"1000514_0\" ref=\"M_0049182\" sort=\"K\" type=\"이름\">申磼</index>',\n",
       " 'ㆍ宋言愼',\n",
       " '參贊官',\n",
       " '<index num=\"1000515_0\" ref=\"M_0006601\" sort=\"K\" type=\"이름\">洪世恭</index>',\n",
       " '<index num=\"1000516_0\" ref=\"M_0005431\" sort=\"K\" type=\"이름\">李好閔</index>',\n",
       " '執義',\n",
       " '<index num=\"1000517_0\" ref=\"M_0001736\" sort=\"K\" type=\"이름\">金時獻</index>',\n",
       " '司諫',\n",
       " '<index num=\"1000518_0\" ref=\"M_0002037\" sort=\"K\" type=\"이름\">金弘微</index>',\n",
       " '檢討官',\n",
       " '<index num=\"1000519_0\" sort=\"K\" type=\"이름\">鄭㷤</index>',\n",
       " '記事官',\n",
       " '<index num=\"1000520_0\" ref=\"M_0056678\" sort=\"K\" type=\"이름\">趙濈</index>',\n",
       " '<index num=\"1000521_0\" ref=\"M_0000861\" sort=\"K\" type=\"이름\">張晩</index>',\n",
       " '<index num=\"1000522_0\" ref=\"M_0003584\" sort=\"K\" type=\"이름\">柳慶宗</index>',\n",
       " '入侍',\n",
       " ' ',\n",
       " '上講',\n",
       " '<index num=\"1000523_0\" sort=\"K\" type=\"이름\">周易</index>',\n",
       " ' ',\n",
       " '<index num=\"1000524_0\" ref=\"M_0003630\" sort=\"K\" type=\"이름\">成龍</index>',\n",
       " '曰',\n",
       " ':',\n",
       " ' ',\n",
       " '自上欲爲展謁太廟',\n",
       " ' ',\n",
       " '人皆以爲感激',\n",
       " ' ',\n",
       " '但列聖座次',\n",
       " ' ',\n",
       " '當初倉卒不能講定',\n",
       " ' ',\n",
       " '頃者',\n",
       " '<index num=\"1000525_0\" ref=\"M_0061334\" sort=\"K\" type=\"이름\">洪進</index>',\n",
       " '奉審時',\n",
       " ' ',\n",
       " '入而見之',\n",
       " ' ',\n",
       " '最爲未安',\n",
       " ' ',\n",
       " '不得已先定座次',\n",
       " ' ',\n",
       " '然後親祭可矣',\n",
       " ' ',\n",
       " '<index num=\"1000526_0\" ref=\"M_0061334\" sort=\"K\" type=\"이름\">洪進</index>',\n",
       " '曰',\n",
       " ':',\n",
       " ' ',\n",
       " '臣與',\n",
       " '<index num=\"1000527_0\" ref=\"M_0003630\" sort=\"K\" type=\"이름\">成龍</index>',\n",
       " '奉審',\n",
       " ' ',\n",
       " '以圖形進入矣',\n",
       " ' ',\n",
       " '大槪十室',\n",
       " ' ',\n",
       " '以西爲上',\n",
       " ' ',\n",
       " '而其室之制不長',\n",
       " ' ',\n",
       " '不能一行而爲座次',\n",
       " ' ',\n",
       " '故回坐於越邊',\n",
       " ' ',\n",
       " '所見未安故敢達',\n",
       " ' ',\n",
       " '上曰',\n",
       " ':',\n",
       " ' ',\n",
       " '禮曹與大臣議爲',\n",
       " ' ',\n",
       " '<index num=\"1000528_0\" ref=\"M_0061334\" sort=\"K\" type=\"이름\">洪進</index>',\n",
       " '曰',\n",
       " ':',\n",
       " ' ',\n",
       " '小臣之意',\n",
       " ' ',\n",
       " '以爲如昭穆之制可也',\n",
       " ' ',\n",
       " '連作一室於其外',\n",
       " ' ',\n",
       " '則可坐如昭穆',\n",
       " ' ',\n",
       " '<index num=\"1000529_0\" ref=\"M_0003630\" sort=\"K\" type=\"이름\">成龍</index>',\n",
       " '曰',\n",
       " ':',\n",
       " ' ',\n",
       " '今者日寒',\n",
       " ' ',\n",
       " '親祭前',\n",
       " ' ',\n",
       " '恐不可爲也',\n",
       " ' ',\n",
       " '上曰',\n",
       " ':',\n",
       " ' ',\n",
       " '今此',\n",
       " '<index num=\"1000530_0\" sort=\"J\" type=\"지명\">倭賊</index>',\n",
       " '不退',\n",
       " ' ',\n",
       " '不擊則我國不可保矣',\n",
       " ' ',\n",
       " '設使',\n",
       " '<index num=\"1000531_0\" sort=\"J\" type=\"지명\">倭</index>',\n",
       " '雖撤退',\n",
       " ' ',\n",
       " '後必更來',\n",
       " ' ',\n",
       " '我國人情',\n",
       " ' ',\n",
       " '謂其一去',\n",
       " ' ',\n",
       " '則不復出來云',\n",
       " ' ',\n",
       " '可笑',\n",
       " ' ',\n",
       " '明春兇謀',\n",
       " ' ',\n",
       " '不可測矣',\n",
       " ' ',\n",
       " '上曰',\n",
       " ':',\n",
       " ' ',\n",
       " '<index num=\"1000532_0\" ref=\"M_0032544\" sort=\"A\" type=\"이름\">孫經略</index>',\n",
       " '爲我國題本云',\n",
       " ' ',\n",
       " '卿見之乎',\n",
       " ' ',\n",
       " '<index num=\"1000533_0\" ref=\"M_0003630\" sort=\"K\" type=\"이름\">成龍</index>',\n",
       " '曰',\n",
       " ':',\n",
       " ' ',\n",
       " '不見矣',\n",
       " ' ',\n",
       " '上曰',\n",
       " ':',\n",
       " ' ',\n",
       " '大臣不得見乎',\n",
       " ' ',\n",
       " '<index num=\"1000534_0\" ref=\"M_0003630\" sort=\"K\" type=\"이름\">成龍</index>',\n",
       " '曰',\n",
       " ':',\n",
       " ' ',\n",
       " '小臣連有病故',\n",
       " ' ',\n",
       " '不得來見矣',\n",
       " ' ',\n",
       " '上曰',\n",
       " ':',\n",
       " ' ',\n",
       " '承旨',\n",
       " '<',\n",
       " 'annotation',\n",
       " ' ',\n",
       " 'type',\n",
       " '=',\n",
       " '원주',\n",
       " '>',\n",
       " ' ',\n",
       " ' ',\n",
       " ' ',\n",
       " ' ',\n",
       " ' ',\n",
       " ' ',\n",
       " ' ',\n",
       " ' ',\n",
       " ' ',\n",
       " ' ',\n",
       " ' ',\n",
       " ' ',\n",
       " ' ',\n",
       " ' ',\n",
       " ' ',\n",
       " ' ',\n",
       " ' ',\n",
       " '<',\n",
       " 'noteContent',\n",
       " '>',\n",
       " '【',\n",
       " '<index num=\"1000535_0\" ref=\"M_0006601\" sort=\"K\" type=\"이름\">洪世恭</index>',\n",
       " '】',\n",
       " '<',\n",
       " 'noteContent',\n",
       " '>',\n",
       " ' ',\n",
       " ' ',\n",
       " ' ',\n",
       " ' ',\n",
       " ' ',\n",
       " ' ',\n",
       " ' ',\n",
       " ' ',\n",
       " ' ',\n",
       " ' ',\n",
       " ' ',\n",
       " ' ',\n",
       " ' ',\n",
       " ' ',\n",
       " ' ',\n",
       " '<',\n",
       " 'annotation',\n",
       " '>',\n",
       " '亦見乎',\n",
       " ' ',\n",
       " '<index num=\"1000536_0\" ref=\"M_0006601\" sort=\"K\" type=\"이름\">世恭</index>',\n",
       " '曰',\n",
       " ':',\n",
       " ' ',\n",
       " '暫見矣',\n",
       " ' ',\n",
       " '上曰',\n",
       " ':',\n",
       " ' ',\n",
       " '其意以爲',\n",
       " ' ',\n",
       " '中原',\n",
       " '我國',\n",
       " ' ',\n",
       " '形勢相倚',\n",
       " ' ',\n",
       " '<index num=\"1000537_0\" sort=\"J\" type=\"지명\">倭賊</index>',\n",
       " '之來',\n",
       " ' ',\n",
       " '若先保',\n",
       " '<index num=\"1000538_0\" sort=\"K\" type=\"지명\">朝鮮</index>',\n",
       " ' ',\n",
       " '則中原可無憂',\n",
       " ' ',\n",
       " '<index num=\"1000539_0\" sort=\"K\" type=\"지명\">中</index>',\n",
       " '朝若盡力防賊',\n",
       " ' ',\n",
       " '則',\n",
       " '<index num=\"1000540_0\" sort=\"K\" type=\"지명\">朝鮮</index>',\n",
       " '亦必有德色矣',\n",
       " ' ',\n",
       " '軍糧不足',\n",
       " ' ',\n",
       " '則',\n",
       " '<index num=\"1000541_0\" sort=\"M\" type=\"지명\">金</index>',\n",
       " '<index num=\"1000542_0\" sort=\"K\" type=\"지명\">覆</index>',\n",
       " '<index num=\"1000543_0\" sort=\"K\" type=\"지명\">海</index>',\n",
       " '<index num=\"1000544_0\" sort=\"K\" type=\"지명\">蓋</index>',\n",
       " ' ',\n",
       " ' ',\n",
       " ' ',\n",
       " ' ',\n",
       " ' ',\n",
       " ' ',\n",
       " ' ',\n",
       " ' ',\n",
       " ' ',\n",
       " ' ',\n",
       " ' ',\n",
       " ' ',\n",
       " ' ',\n",
       " ' ',\n",
       " ' ',\n",
       " '<',\n",
       " 'annotation',\n",
       " ' ',\n",
       " 'type',\n",
       " '=',\n",
       " '원주',\n",
       " '>',\n",
       " ' ',\n",
       " ' ',\n",
       " ' ',\n",
       " ' ',\n",
       " ' ',\n",
       " ' ',\n",
       " ' ',\n",
       " ' ',\n",
       " ' ',\n",
       " ' ',\n",
       " ' ',\n",
       " ' ',\n",
       " ' ',\n",
       " ' ',\n",
       " ' ',\n",
       " ' ',\n",
       " ' ',\n",
       " '<',\n",
       " 'noteContent',\n",
       " '>',\n",
       " '【',\n",
       " '四州名',\n",
       " '】',\n",
       " '<',\n",
       " 'noteContent',\n",
       " '>',\n",
       " ' ',\n",
       " ' ',\n",
       " ' ',\n",
       " ' ',\n",
       " ' ',\n",
       " ' ',\n",
       " ' ',\n",
       " ' ',\n",
       " ' ',\n",
       " ' ',\n",
       " ' ',\n",
       " ' ',\n",
       " ' ',\n",
       " ' ',\n",
       " ' ',\n",
       " '<',\n",
       " 'annotation',\n",
       " '>',\n",
       " '之粟',\n",
       " ' ',\n",
       " '移於',\n",
       " '<index num=\"1000545_0\" sort=\"K\" type=\"지명\">平壤</index>',\n",
       " ' ',\n",
       " '<index num=\"1000546_0\" sort=\"M\" type=\"지명\">遼東</index>',\n",
       " '之穀',\n",
       " ' ',\n",
       " '移於',\n",
       " '<index num=\"1000547_0\" sort=\"K\" type=\"지명\">義州</index>',\n",
       " '云云',\n",
       " ' ',\n",
       " '此必有守',\n",
       " '<index num=\"1000548_0\" sort=\"K\" type=\"지명\">朝鮮</index>',\n",
       " '之意',\n",
       " ' ',\n",
       " '兵部奉聖旨',\n",
       " ' ',\n",
       " '已定其軍糧之數云矣',\n",
       " ' ',\n",
       " '<index num=\"1000549_0\" ref=\"M_0049182\" sort=\"K\" type=\"이름\">申磼</index>',\n",
       " '曰',\n",
       " ':',\n",
       " ' ',\n",
       " '我國鍊兵',\n",
       " ' ',\n",
       " '而片箭最爲長技',\n",
       " ' ',\n",
       " '頃見官射',\n",
       " ' ',\n",
       " '則武人十人',\n",
       " ' ',\n",
       " '無一人射片箭者',\n",
       " ' ',\n",
       " '極爲可慮',\n",
       " ' ',\n",
       " '如欲鍊兵',\n",
       " ' ',\n",
       " '則片箭之技',\n",
       " ' ',\n",
       " '當爲培養可矣',\n",
       " ' ',\n",
       " '上曰',\n",
       " ':',\n",
       " ' ',\n",
       " '<index num=\"1000550_0\" sort=\"J\" type=\"지명\">倭</index>',\n",
       " '使出來',\n",
       " ' ',\n",
       " '何以爲之',\n",
       " ' ',\n",
       " '<index num=\"1000551_0\" ref=\"M_0005431\" sort=\"K\" type=\"이름\">好閔</index>',\n",
       " '曰',\n",
       " ':',\n",
       " ' ',\n",
       " '奏文請禁約使',\n",
       " ' ',\n",
       " '若然則可制矣',\n",
       " ' ',\n",
       " '上曰',\n",
       " ':',\n",
       " ' ',\n",
       " '禁約使能縶',\n",
       " '<index num=\"1000552_0\" sort=\"J\" type=\"지명\">倭</index>',\n",
       " '之手足乎',\n",
       " ' ',\n",
       " '其號令不能行矣',\n",
       " ' ',\n",
       " '<index num=\"1000553_0\" ref=\"M_0005431\" sort=\"K\" type=\"이름\">好閔</index>',\n",
       " '曰',\n",
       " ':',\n",
       " ' ',\n",
       " '禁約事',\n",
       " ' ',\n",
       " '不可不爲於奏文中也',\n",
       " ' ',\n",
       " '上曰',\n",
       " ':',\n",
       " ' ',\n",
       " '渠之兇謀',\n",
       " ' ',\n",
       " '不可測也',\n",
       " ' ',\n",
       " '若擧窟穴出來',\n",
       " ' ',\n",
       " '直向中原',\n",
       " ' ',\n",
       " '則不可說也',\n",
       " ' ',\n",
       " '<index num=\"1000554_0\" ref=\"M_0005431\" sort=\"K\" type=\"이름\">好閔</index>',\n",
       " '曰',\n",
       " ':',\n",
       " ' ',\n",
       " '渠雖無此意',\n",
       " ' ',\n",
       " '在我之備',\n",
       " ' ',\n",
       " '不可忽也',\n",
       " ' ',\n",
       " '上曰',\n",
       " ':',\n",
       " ' ',\n",
       " '當今之務',\n",
       " ' ',\n",
       " '莫如收用賢才',\n",
       " ' ',\n",
       " '其外無他策',\n",
       " ' ',\n",
       " '<index num=\"1000555_0\" ref=\"M_0003630\" sort=\"K\" type=\"이름\">成龍</index>',\n",
       " '曰',\n",
       " ':',\n",
       " ' ',\n",
       " '小臣當此時',\n",
       " ' ',\n",
       " '不可堪任',\n",
       " ' ',\n",
       " '而冒據至此',\n",
       " ' ',\n",
       " '晝夜憂悶而已',\n",
       " ' ',\n",
       " '大槪用人之道',\n",
       " ' ',\n",
       " '明賞罰爲貴',\n",
       " ' ',\n",
       " '彈劾之事',\n",
       " ' ',\n",
       " '或出於風聞',\n",
       " ' ',\n",
       " '則爲臺諫者',\n",
       " ' ',\n",
       " '當仔細聞見',\n",
       " ' ',\n",
       " '然後可以論啓',\n",
       " ' ',\n",
       " '且守令',\n",
       " ' ',\n",
       " '親民之官',\n",
       " ' ',\n",
       " '若頻數遞改',\n",
       " ' ',\n",
       " '只貽送迎之弊',\n",
       " ' ',\n",
       " '而何能責其成效乎',\n",
       " ' ',\n",
       " '上曰',\n",
       " ':',\n",
       " ' ',\n",
       " '刷馬之弊多矣',\n",
       " ' ',\n",
       " '各驛無復立之策乎',\n",
       " ' ',\n",
       " '<index num=\"1000556_0\" ref=\"M_0003630\" sort=\"K\" type=\"이름\">成龍</index>',\n",
       " '曰',\n",
       " ':',\n",
       " ' ',\n",
       " '聞',\n",
       " '<index num=\"1000557_0\" sort=\"K\" type=\"지명\">黃海道</index>',\n",
       " '刷馬有弊',\n",
       " ' ',\n",
       " '頃見',\n",
       " '<index num=\"1000558_0\" ref=\"M_0005678\" sort=\"K\" type=\"이름\">張雲翼</index>',\n",
       " '狀啓',\n",
       " ' ',\n",
       " '摘出其中奸濫者治之',\n",
       " ' ',\n",
       " '故無刷馬之弊云矣',\n",
       " ' ',\n",
       " '<index num=\"1000559_0\" ref=\"M_0002037\" sort=\"K\" type=\"이름\">弘微</index>',\n",
       " '曰',\n",
       " ':',\n",
       " ' ',\n",
       " '科擧之事',\n",
       " ' ',\n",
       " '最關國家',\n",
       " ' ',\n",
       " '而亂離以後',\n",
       " ' ',\n",
       " '文敎廢墜',\n",
       " ' ',\n",
       " '閭巷之間',\n",
       " ' ',\n",
       " '未見挾冊童子',\n",
       " ' ',\n",
       " '此極寒心',\n",
       " ' ',\n",
       " '頃出童蒙訓導',\n",
       " ' ',\n",
       " '責之以敎誨',\n",
       " ' ',\n",
       " '則異日作成之化',\n",
       " ' ',\n",
       " '猶或可望矣',\n",
       " ' ',\n",
       " '<index num=\"1000560_0\" ref=\"M_0001736\" sort=\"K\" type=\"이름\">時獻</index>',\n",
       " '曰',\n",
       " ':',\n",
       " ' ',\n",
       " '國家恢復',\n",
       " ' ',\n",
       " '以武備而爲之者不多',\n",
       " ' ',\n",
       " '而只在於維持文敎一事而已',\n",
       " ' ',\n",
       " '近來學校頹廢',\n",
       " ' ',\n",
       " '人不讀書',\n",
       " ' ',\n",
       " '振作培養之典',\n",
       " ' ',\n",
       " '蔑爾無聞',\n",
       " ' ',\n",
       " '自上每下敎於銓曹',\n",
       " ' ',\n",
       " '欲得人材',\n",
       " ' ',\n",
       " '而人材必待儲養',\n",
       " ' ',\n",
       " '然後乃可得也',\n",
       " ' ',\n",
       " '今者文籍散缺',\n",
       " ' ',\n",
       " '不可盡備',\n",
       " ' ',\n",
       " '不得已爲先措備者',\n",
       " ' ',\n",
       " '<index num=\"1000561_0\" type=\"서명\">《小學》</index>',\n",
       " '書也',\n",
       " ' ',\n",
       " '上曰',\n",
       " ':',\n",
       " ' ',\n",
       " '其板有之乎',\n",
       " ' ',\n",
       " '下書求之',\n",
       " ' ',\n",
       " '可得以印之乎',\n",
       " ' ',\n",
       " '如欲印出',\n",
       " ' ',\n",
       " '必有匠人',\n",
       " ' ',\n",
       " '備料爲難',\n",
       " ' ']"
      ]
     },
     "execution_count": 299,
     "metadata": {},
     "output_type": "execute_result"
    }
   ],
   "source": [
    "tokenizer = RegexpTokenizer(r\"\\w+|<index.+?</index>\")\n",
    "t = tokenizer.tokenize(sillok['paragraph'][13])\n",
    "t = [i for i in t if i not in specials]\n",
    "t"
   ]
  },
  {
   "cell_type": "code",
   "execution_count": 5,
   "metadata": {
    "ExecuteTime": {
     "end_time": "2020-03-08T09:07:58.391401Z",
     "start_time": "2020-03-08T09:07:58.370279Z"
    }
   },
   "outputs": [],
   "source": [
    "kor_begin = 44032\n",
    "kor_end = 55203\n",
    "chosung_base = 588\n",
    "jungsung_base = 28\n",
    "jaum_begin = 12593\n",
    "jaum_end = 12622\n",
    "moum_begin = 12623\n",
    "moum_end = 12643\n",
    "\n",
    "chosung_list = [ 'ㄱ', 'ㄲ', 'ㄴ', 'ㄷ', 'ㄸ', 'ㄹ', 'ㅁ', 'ㅂ', 'ㅃ', \n",
    "        'ㅅ', 'ㅆ', 'ㅇ' , 'ㅈ', 'ㅉ', 'ㅊ', 'ㅋ', 'ㅌ', 'ㅍ', 'ㅎ']\n",
    "\n",
    "jungsung_list = ['ㅏ', 'ㅐ', 'ㅑ', 'ㅒ', 'ㅓ', 'ㅔ', \n",
    "        'ㅕ', 'ㅖ', 'ㅗ', 'ㅘ', 'ㅙ', 'ㅚ', \n",
    "        'ㅛ', 'ㅜ', 'ㅝ', 'ㅞ', 'ㅟ', 'ㅠ', \n",
    "        'ㅡ', 'ㅢ', 'ㅣ']\n",
    "\n",
    "jongsung_list = [\n",
    "    ' ', 'ㄱ', 'ㄲ', 'ㄳ', 'ㄴ', 'ㄵ', 'ㄶ', 'ㄷ',\n",
    "        'ㄹ', 'ㄺ', 'ㄻ', 'ㄼ', 'ㄽ', 'ㄾ', 'ㄿ', 'ㅀ', \n",
    "        'ㅁ', 'ㅂ', 'ㅄ', 'ㅅ', 'ㅆ', 'ㅇ', 'ㅈ', 'ㅊ', \n",
    "        'ㅋ', 'ㅌ', 'ㅍ', 'ㅎ']\n",
    "\n",
    "jaum_list = ['ㄱ', 'ㄲ', 'ㄳ', 'ㄴ', 'ㄵ', 'ㄶ', 'ㄷ', 'ㄸ', 'ㄹ', \n",
    "              'ㄺ', 'ㄻ', 'ㄼ', 'ㄽ', 'ㄾ', 'ㄿ', 'ㅀ', 'ㅁ', 'ㅂ', \n",
    "              'ㅃ', 'ㅄ', 'ㅅ', 'ㅆ', 'ㅇ', 'ㅈ', 'ㅉ', 'ㅊ', 'ㅋ', 'ㅌ', 'ㅍ', 'ㅎ']\n",
    "\n",
    "moum_list = ['ㅏ', 'ㅐ', 'ㅑ', 'ㅒ', 'ㅓ', 'ㅔ', 'ㅕ', 'ㅖ', 'ㅗ', 'ㅘ', \n",
    "              'ㅙ', 'ㅚ', 'ㅛ', 'ㅜ', 'ㅝ', 'ㅞ', 'ㅟ', 'ㅠ', 'ㅡ', 'ㅢ', 'ㅣ']\n",
    "\n",
    "def compose(chosung, jungsung, jongsung):\n",
    "    char = chr(\n",
    "        kor_begin +\n",
    "        chosung_base * chosung_list.index(chosung) +\n",
    "        jungsung_base * jungsung_list.index(jungsung) +\n",
    "        jongsung_list.index(jongsung)\n",
    "    )\n",
    "    return char\n",
    "\n",
    "def decompose(c):\n",
    "    if not character_is_korean(c):\n",
    "        return None\n",
    "    i = ord(c)\n",
    "    if (jaum_begin <= i <= jaum_end):\n",
    "        return (c, ' ', ' ')\n",
    "    if (moum_begin <= i <= moum_end):\n",
    "        return (' ', c, ' ')\n",
    "\n",
    "    # decomposition rule\n",
    "    i -= kor_begin\n",
    "    cho  = i // chosung_base\n",
    "    jung = ( i - cho * chosung_base ) // jungsung_base \n",
    "    jong = ( i - cho * chosung_base - jung * jungsung_base )    \n",
    "    return (chosung_list[cho], jungsung_list[jung], jongsung_list[jong])\n",
    "\n",
    "def character_is_korean(c):\n",
    "    i = ord(c)\n",
    "    return ((kor_begin <= i <= kor_end) or\n",
    "            (jaum_begin <= i <= jaum_end) or\n",
    "            (moum_begin <= i <= moum_end))\n",
    "def levenshtein(s1, s2, cost=None, debug=False):\n",
    "    if len(s1) < len(s2):\n",
    "        return levenshtein(s2, s1, debug=debug)\n",
    "\n",
    "    if len(s2) == 0:\n",
    "        return len(s1)\n",
    "\n",
    "    if cost is None:\n",
    "        cost = {}\n",
    "\n",
    "    # changed\n",
    "    def substitution_cost(c1, c2):\n",
    "        if c1 == c2:\n",
    "            return 0\n",
    "        return cost.get((c1, c2), 1)\n",
    "\n",
    "    previous_row = range(len(s2) + 1)\n",
    "    for i, c1 in enumerate(s1):\n",
    "        current_row = [i + 1]\n",
    "        for j, c2 in enumerate(s2):\n",
    "            insertions = previous_row[j + 1] + 1\n",
    "            deletions = current_row[j] + 1\n",
    "            # Changed\n",
    "            substitutions = previous_row[j] + substitution_cost(c1, c2)\n",
    "            current_row.append(min(insertions, deletions, substitutions))\n",
    "\n",
    "        if debug:\n",
    "            print(current_row[1:])\n",
    "\n",
    "        previous_row = current_row\n",
    "\n",
    "    return previous_row[-1]\n",
    "def jamo_levenshtein(s1, s2, debug=False):\n",
    "    if len(s1) < len(s2):\n",
    "        return jamo_levenshtein(s2, s1, debug)\n",
    "\n",
    "    if len(s2) == 0:\n",
    "        return len(s1)\n",
    "\n",
    "    def substitution_cost(c1, c2):\n",
    "        if c1 == c2:\n",
    "            return 0\n",
    "        return levenshtein(decompose(c1), decompose(c2))/3\n",
    "\n",
    "    previous_row = range(len(s2) + 1)\n",
    "    for i, c1 in enumerate(s1):\n",
    "        current_row = [i + 1]\n",
    "        for j, c2 in enumerate(s2):\n",
    "            insertions = previous_row[j + 1] + 1\n",
    "            deletions = current_row[j] + 1\n",
    "            # Changed\n",
    "            substitutions = previous_row[j] + substitution_cost(c1, c2)\n",
    "            current_row.append(min(insertions, deletions, substitutions))\n",
    "\n",
    "        if debug:\n",
    "            print(['%.3f'%v for v in current_row[1:]])\n",
    "\n",
    "        previous_row = current_row\n",
    "\n",
    "    return previous_row[-1]"
   ]
  },
  {
   "cell_type": "code",
   "execution_count": 9,
   "metadata": {
    "ExecuteTime": {
     "end_time": "2020-03-08T09:09:02.260456Z",
     "start_time": "2020-03-08T09:09:02.255412Z"
    }
   },
   "outputs": [
    {
     "data": {
      "text/plain": [
       "2.6666666666666665"
      ]
     },
     "execution_count": 9,
     "metadata": {},
     "output_type": "execute_result"
    }
   ],
   "source": [
    "jamo_levenshtein('테스트','날람미')"
   ]
  },
  {
   "cell_type": "code",
   "execution_count": 19,
   "metadata": {
    "ExecuteTime": {
     "end_time": "2020-03-08T09:18:02.789711Z",
     "start_time": "2020-03-08T09:18:02.743143Z"
    }
   },
   "outputs": [],
   "source": [
    "gwanjik = pd.read_sql_table('gwanjik',con=engine)"
   ]
  },
  {
   "cell_type": "code",
   "execution_count": 22,
   "metadata": {
    "ExecuteTime": {
     "end_time": "2020-03-08T09:18:35.481234Z",
     "start_time": "2020-03-08T09:18:35.475474Z"
    }
   },
   "outputs": [
    {
     "data": {
      "text/plain": [
       "0           \n",
       "1         서얼\n",
       "2       공릉참봉\n",
       "3       산학별제\n",
       "4       수의부위\n",
       "        ... \n",
       "2252      사사\n",
       "2253     선전관\n",
       "2254     우사어\n",
       "2255    승의부위\n",
       "2256    진무부위\n",
       "Length: 2257, dtype: object"
      ]
     },
     "execution_count": 22,
     "metadata": {},
     "output_type": "execute_result"
    }
   ],
   "source": [
    "gwanjik['gye'] + gwanjik['sa'] + gwanjik['jik']"
   ]
  },
  {
   "cell_type": "code",
   "execution_count": null,
   "metadata": {},
   "outputs": [],
   "source": []
  }
 ],
 "metadata": {
  "kernelspec": {
   "display_name": "Python 3",
   "language": "python",
   "name": "python3"
  },
  "language_info": {
   "codemirror_mode": {
    "name": "ipython",
    "version": 3
   },
   "file_extension": ".py",
   "mimetype": "text/x-python",
   "name": "python",
   "nbconvert_exporter": "python",
   "pygments_lexer": "ipython3",
   "version": "3.7.4"
  },
  "varInspector": {
   "cols": {
    "lenName": 16,
    "lenType": 16,
    "lenVar": 40
   },
   "kernels_config": {
    "python": {
     "delete_cmd_postfix": "",
     "delete_cmd_prefix": "del ",
     "library": "var_list.py",
     "varRefreshCmd": "print(var_dic_list())"
    },
    "r": {
     "delete_cmd_postfix": ") ",
     "delete_cmd_prefix": "rm(",
     "library": "var_list.r",
     "varRefreshCmd": "cat(var_dic_list()) "
    }
   },
   "types_to_exclude": [
    "module",
    "function",
    "builtin_function_or_method",
    "instance",
    "_Feature"
   ],
   "window_display": true
  }
 },
 "nbformat": 4,
 "nbformat_minor": 2
}
