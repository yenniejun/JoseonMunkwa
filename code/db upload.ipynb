{
 "cells": [
  {
   "cell_type": "code",
   "execution_count": 1,
   "metadata": {
    "ExecuteTime": {
     "end_time": "2020-02-26T10:50:40.583921Z",
     "start_time": "2020-02-26T10:50:40.201075Z"
    }
   },
   "outputs": [
    {
     "name": "stdout",
     "output_type": "stream",
     "text": [
      "The OS of this machine is darwin. Connecting to remote server...\n"
     ]
    }
   ],
   "source": [
    "import psycopg2\n",
    "import sys\n",
    "from sqlalchemy import create_engine\n",
    "import pandas as pd\n",
    "from setting import *\n",
    "\n",
    "\n",
    "def init():\n",
    "    if sys.platform == \"win32\":\n",
    "        conn = psycopg2.connect(database=DB, user=USER, password=PASSWORD, host='localhost', port=PORT)\n",
    "        cur = conn.cursor()\n",
    "    else:\n",
    "        print(\"The OS of this machine is \" + sys.platform + \". Connecting to remote server...\")\n",
    "        # host = '143.248.109.99'\n",
    "        conn = psycopg2.connect(database=DB, user=USER, password=PASSWORD, host=HOST, port=PORT)\n",
    "        cur = conn.cursor()\n",
    "    return conn, cur\n",
    "\n",
    "engine = create_engine('postgresql+psycopg2://{}:{}@{}:{}/{}'.format(USER, PASSWORD, HOST,PORT,DB))\n",
    "engine2 = create_engine('postgresql+psycopg2://{}:{}@{}:{}/{}'.format(USER, PASSWORD, HOST,PORT,DB2))\n",
    "con, cur = init()"
   ]
  },
  {
   "cell_type": "code",
   "execution_count": null,
   "metadata": {},
   "outputs": [],
   "source": [
    "locations = pd.read_sql_table('locations',con=engine2)\n",
    "locations.to_sql('locations',if_exists='replace',con=engine, index=False)"
   ]
  },
  {
   "cell_type": "code",
   "execution_count": null,
   "metadata": {},
   "outputs": [],
   "source": [
    "ws = pd.read_csv('./raw/WS_Munkwa.csv')"
   ]
  },
  {
   "cell_type": "code",
   "execution_count": null,
   "metadata": {},
   "outputs": [],
   "source": [
    "ws.to_sql('WS_Munkwa',if_exists='replace',con=engine, index=False)"
   ]
  },
  {
   "cell_type": "code",
   "execution_count": null,
   "metadata": {},
   "outputs": [],
   "source": [
    "lnis = pd.read_csv('./raw/lnis_family.csv')\n",
    "lnis.to_sql('lnis_family',if_exists='replace',con=engine, index=False)"
   ]
  },
  {
   "cell_type": "code",
   "execution_count": null,
   "metadata": {},
   "outputs": [],
   "source": [
    "lee_uuid = pd.read_csv('./preprocessing/munkwa_lee_uuid_dict.csv')"
   ]
  },
  {
   "cell_type": "code",
   "execution_count": null,
   "metadata": {},
   "outputs": [],
   "source": [
    "len(set(lee_uuid['lee_uuid']))"
   ]
  },
  {
   "cell_type": "code",
   "execution_count": null,
   "metadata": {},
   "outputs": [],
   "source": [
    "lee_uuid"
   ]
  },
  {
   "cell_type": "code",
   "execution_count": null,
   "metadata": {},
   "outputs": [],
   "source": [
    "for idx in lee_uuid.index:\n",
    "    luid = lee_uuid.iloc[idx]['lee_uuid']\n",
    "    bid = lee_uuid.iloc[idx]['bid']\n",
    "    cur.execute(\n",
    "        '''UPDATE bangmok SET lee_uuid =(%s)\n",
    "        WHERE bid = (%s)\n",
    "        ''', (luid, bid))\n",
    "con.commit()\n",
    "cur.close()"
   ]
  },
  {
   "cell_type": "code",
   "execution_count": null,
   "metadata": {},
   "outputs": [],
   "source": [
    "ws_uuid = pd.read_csv('./preprocessing/munkwa_ws_uuid_dict.csv')"
   ]
  },
  {
   "cell_type": "code",
   "execution_count": null,
   "metadata": {},
   "outputs": [],
   "source": [
    "for idx in ws_uuid.index:\n",
    "    id1= ws_uuid.iloc[idx]['id1']\n",
    "    wuid = ws_uuid.iloc[idx]['ws_uuid']\n",
    "    cur.execute(\n",
    "        '''UPDATE ws_munkwa SET ws_uuid =(%s)\n",
    "        WHERE id1 = (%s)\n",
    "        ''', (wuid, str(id1)))\n",
    "    con.commit()\n",
    "cur.close()"
   ]
  },
  {
   "cell_type": "code",
   "execution_count": null,
   "metadata": {},
   "outputs": [],
   "source": [
    "sc = pd.read_sql('select * from sillok_career inner join dates on dates.solardate=sillok_career.solardate', con=engine)"
   ]
  },
  {
   "cell_type": "code",
   "execution_count": null,
   "metadata": {},
   "outputs": [],
   "source": [
    "scr = sc.groupby('spid')['rdate'].apply(list)"
   ]
  },
  {
   "cell_type": "code",
   "execution_count": null,
   "metadata": {},
   "outputs": [],
   "source": []
  },
  {
   "cell_type": "code",
   "execution_count": null,
   "metadata": {},
   "outputs": [],
   "source": []
  },
  {
   "cell_type": "code",
   "execution_count": null,
   "metadata": {},
   "outputs": [],
   "source": [
    "scr"
   ]
  },
  {
   "cell_type": "code",
   "execution_count": null,
   "metadata": {},
   "outputs": [],
   "source": [
    "merged_munkwa = pd.read_csv('./preprocessing/Merged_Munkwa.csv')"
   ]
  },
  {
   "cell_type": "code",
   "execution_count": null,
   "metadata": {},
   "outputs": [],
   "source": [
    "merged_munkwa.to_sql('merged_munkwa', index=False, if_exists='append', con=engine)"
   ]
  },
  {
   "cell_type": "code",
   "execution_count": null,
   "metadata": {},
   "outputs": [],
   "source": [
    "bc = pd.read_sql_table('bangmok_career', con=engine)"
   ]
  },
  {
   "cell_type": "code",
   "execution_count": null,
   "metadata": {},
   "outputs": [],
   "source": [
    "a = sorted([int(i) for i in list(bc['bcid'].str.replace('bc','')) if i is not None])\n",
    "for i, j in enumerate(a):\n",
    "    if i+1 !=j:\n",
    "        if i+2 !=j:\n",
    "            print(i, j)"
   ]
  },
  {
   "cell_type": "code",
   "execution_count": null,
   "metadata": {},
   "outputs": [],
   "source": [
    "sp = pd.read_excel('./preprocessing/figures.xlsx')"
   ]
  },
  {
   "cell_type": "code",
   "execution_count": null,
   "metadata": {},
   "outputs": [],
   "source": [
    "sp.to_sql('sillok_person', con=engine, if_exists='append',index=False)"
   ]
  },
  {
   "cell_type": "code",
   "execution_count": null,
   "metadata": {
    "ExecuteTime": {
     "end_time": "2020-02-25T12:54:29.984301Z",
     "start_time": "2020-02-25T12:54:28.464799Z"
    }
   },
   "outputs": [],
   "source": [
    "sc = pd.read_sql_table('sillok_career', con=engine)"
   ]
  },
  {
   "cell_type": "code",
   "execution_count": null,
   "metadata": {
    "ExecuteTime": {
     "end_time": "2020-02-25T12:55:13.043671Z",
     "start_time": "2020-02-25T12:54:29.986180Z"
    }
   },
   "outputs": [],
   "source": [
    "records = pd.read_excel('./preprocessing/records.xlsx')"
   ]
  },
  {
   "cell_type": "code",
   "execution_count": null,
   "metadata": {
    "scrolled": false
   },
   "outputs": [],
   "source": [
    "set(records['관직']) - set({k:v for k, v in zip(sc['officelevel'], sc['gid'])}.keys())"
   ]
  },
  {
   "cell_type": "code",
   "execution_count": null,
   "metadata": {
    "ExecuteTime": {
     "end_time": "2020-02-25T12:56:14.744195Z",
     "start_time": "2020-02-25T12:56:14.420173Z"
    }
   },
   "outputs": [],
   "source": [
    "sc['scid'] = sc['scid'].str.replace('sc','').astype(int)"
   ]
  },
  {
   "cell_type": "code",
   "execution_count": null,
   "metadata": {
    "ExecuteTime": {
     "end_time": "2020-02-25T12:56:16.356711Z",
     "start_time": "2020-02-25T12:56:16.220299Z"
    }
   },
   "outputs": [],
   "source": [
    "len(set(records['관직_ID']) - set(sc['scid']))"
   ]
  },
  {
   "cell_type": "code",
   "execution_count": null,
   "metadata": {
    "ExecuteTime": {
     "end_time": "2020-02-25T12:56:20.963423Z",
     "start_time": "2020-02-25T12:56:20.959570Z"
    }
   },
   "outputs": [],
   "source": [
    "t.columns"
   ]
  },
  {
   "cell_type": "code",
   "execution_count": null,
   "metadata": {
    "ExecuteTime": {
     "end_time": "2020-02-25T12:56:18.419797Z",
     "start_time": "2020-02-25T12:56:17.924699Z"
    }
   },
   "outputs": [],
   "source": [
    "t = pd.merge(records, sc, left_on='관직_ID', right_on = 'scid', how='left')"
   ]
  },
  {
   "cell_type": "code",
   "execution_count": null,
   "metadata": {
    "ExecuteTime": {
     "end_time": "2020-02-25T13:25:30.732337Z",
     "start_time": "2020-02-25T13:25:28.548643Z"
    }
   },
   "outputs": [],
   "source": [
    "dates = pd.read_sql_table('dates',con=engine)\n",
    "dates = {k:v for k, v in zip(dates['lunardate'], dates['solardate'])}\n",
    "t['solardate'] = (t['서기년'].astype(str)+'-'+t['서기월'].astype(str).apply(lambda x: x.zfill(2))+'-'+t['서기일'].astype(str).apply(lambda x: x.zfill(2))+'L'+t['윤달여부'].astype(str)).map(dates)"
   ]
  },
  {
   "cell_type": "code",
   "execution_count": null,
   "metadata": {
    "ExecuteTime": {
     "end_time": "2020-02-25T12:58:03.830706Z",
     "start_time": "2020-02-25T12:58:02.145734Z"
    }
   },
   "outputs": [],
   "source": []
  },
  {
   "cell_type": "code",
   "execution_count": null,
   "metadata": {
    "ExecuteTime": {
     "end_time": "2020-02-25T13:07:08.744341Z",
     "start_time": "2020-02-25T13:07:08.708494Z"
    }
   },
   "outputs": [],
   "source": [
    "t[t['scid'] !=  t['관직_ID']]"
   ]
  },
  {
   "cell_type": "code",
   "execution_count": null,
   "metadata": {
    "ExecuteTime": {
     "end_time": "2020-02-25T13:22:51.526761Z",
     "start_time": "2020-02-25T13:22:50.942336Z"
    }
   },
   "outputs": [],
   "source": [
    "for i in t[t['기사ID'] !=  t['sid']].index:\n",
    "    spid = t.iloc[i]['인물_ID']\n",
    "    officelevel = t.iloc[i]['관직']\n",
    "    typo = t.iloc[i]['관직현황']\n",
    "    sid = t.iloc[i]['기사ID']\n",
    "    scid = 'sc'+str(t.iloc[i]['관직_ID'])\n",
    "    solardate = t.iloc[i]['solardate']\n",
    "    gid = None\n",
    "    cur.execute('''\n",
    "    insert into sillok_career (spid, officelevel, type, sid, scid, solardate, gid)\n",
    "    values ((%s), (%s), (%s), (%s), (%s), (%s), (%s))\n",
    "    ''', (spid, officelevel, typo, sid, scid, solardate, gid))\n",
    "con.commit()\n",
    "con.close()"
   ]
  },
  {
   "cell_type": "code",
   "execution_count": null,
   "metadata": {
    "ExecuteTime": {
     "end_time": "2020-02-25T13:27:52.627707Z",
     "start_time": "2020-02-25T13:27:41.114276Z"
    },
    "scrolled": true
   },
   "outputs": [],
   "source": [
    "for i in t[t['관직'] !=  t['officelevel']].index:\n",
    "    spid = t.iloc[i]['인물_ID']\n",
    "    officelevel = t.iloc[i]['관직']\n",
    "    sid = t.iloc[i]['기사ID']\n",
    "    scid = 'sc'+str(t.iloc[i]['관직_ID'])\n",
    "    solardate = t.iloc[i]['solardate']\n",
    "    cur.execute(\n",
    "        '''UPDATE sillok_career SET spid =(%s),\n",
    "        officelevel = (%s),\n",
    "        sid = (%s),\n",
    "        solardate = (%s)\n",
    "        WHERE scid = (%s)\n",
    "        ''', (spid, officelevel, sid, solardate, scid))\n",
    "con.commit()\n",
    "con.close()"
   ]
  },
  {
   "cell_type": "code",
   "execution_count": null,
   "metadata": {},
   "outputs": [],
   "source": [
    "t"
   ]
  },
  {
   "cell_type": "code",
   "execution_count": null,
   "metadata": {
    "scrolled": false
   },
   "outputs": [],
   "source": [
    "for i in t[t['관직'] !=  t['officelevel']].index:\n",
    "    officelevel = t.iloc[i]['관직']\n",
    "    typo = t.iloc[i]['관직현황']\n",
    "    sid = t.iloc['기사ID']\n",
    "    "
   ]
  },
  {
   "cell_type": "code",
   "execution_count": null,
   "metadata": {
    "ExecuteTime": {
     "end_time": "2020-02-26T06:53:35.818885Z",
     "start_time": "2020-02-26T06:53:33.997982Z"
    }
   },
   "outputs": [],
   "source": [
    "sc = pd.read_sql_table('sillok_career',con=engine)\n",
    "sp = pd.read_sql_table('sillok_person', con=engine)"
   ]
  },
  {
   "cell_type": "code",
   "execution_count": null,
   "metadata": {
    "ExecuteTime": {
     "end_time": "2020-02-26T06:53:53.430594Z",
     "start_time": "2020-02-26T06:53:53.345319Z"
    }
   },
   "outputs": [],
   "source": [
    "set(sc['spid']) - set(sp['spid'])"
   ]
  },
  {
   "cell_type": "code",
   "execution_count": null,
   "metadata": {
    "ExecuteTime": {
     "end_time": "2020-02-26T07:59:50.425392Z",
     "start_time": "2020-02-26T07:59:48.652984Z"
    }
   },
   "outputs": [],
   "source": [
    "sn = pd.read_sql_table('sillok_name', con=engine)"
   ]
  },
  {
   "cell_type": "code",
   "execution_count": null,
   "metadata": {
    "ExecuteTime": {
     "end_time": "2020-02-26T08:00:04.218473Z",
     "start_time": "2020-02-26T08:00:04.052620Z"
    }
   },
   "outputs": [],
   "source": [
    "set(sn['nameid']) - set(sp['spid'])"
   ]
  },
  {
   "cell_type": "code",
   "execution_count": null,
   "metadata": {},
   "outputs": [],
   "source": []
  }
 ],
 "metadata": {
  "kernelspec": {
   "display_name": "Python 3",
   "language": "python",
   "name": "python3"
  },
  "language_info": {
   "codemirror_mode": {
    "name": "ipython",
    "version": 3
   },
   "file_extension": ".py",
   "mimetype": "text/x-python",
   "name": "python",
   "nbconvert_exporter": "python",
   "pygments_lexer": "ipython3",
   "version": "3.7.4"
  },
  "varInspector": {
   "cols": {
    "lenName": 16,
    "lenType": 16,
    "lenVar": 40
   },
   "kernels_config": {
    "python": {
     "delete_cmd_postfix": "",
     "delete_cmd_prefix": "del ",
     "library": "var_list.py",
     "varRefreshCmd": "print(var_dic_list())"
    },
    "r": {
     "delete_cmd_postfix": ") ",
     "delete_cmd_prefix": "rm(",
     "library": "var_list.r",
     "varRefreshCmd": "cat(var_dic_list()) "
    }
   },
   "types_to_exclude": [
    "module",
    "function",
    "builtin_function_or_method",
    "instance",
    "_Feature"
   ],
   "window_display": false
  }
 },
 "nbformat": 4,
 "nbformat_minor": 2
}
