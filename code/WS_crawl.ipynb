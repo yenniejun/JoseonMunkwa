{
 "cells": [
  {
   "cell_type": "code",
   "execution_count": 53,
   "metadata": {},
   "outputs": [],
   "source": [
    "import requests\n",
    "from lxml import html\n",
    "import csv"
   ]
  },
  {
   "cell_type": "code",
   "execution_count": 18,
   "metadata": {},
   "outputs": [],
   "source": [
    "base_url = 'http://dh.aks.ac.kr'\n",
    "list_url = 'http://dh.aks.ac.kr/~sonamu5/wiki/index.php/SEDB:%EB%AC%B8%EA%B3%BC_%EA%B8%89%EC%A0%9C%EC%9E%90_%EB%AA%85%EB%8B%A8(804%ED%9A%8C)'\n",
    "list_page = requests.get(list_url).text"
   ]
  },
  {
   "cell_type": "code",
   "execution_count": 21,
   "metadata": {},
   "outputs": [],
   "source": [
    "list_urls = [base_url+i for i in html.fromstring(list_page).xpath('//h3/span//a/@href')]"
   ]
  },
  {
   "cell_type": "code",
   "execution_count": 27,
   "metadata": {},
   "outputs": [],
   "source": [
    "kwakos = []\n",
    "for l in list_urls:\n",
    "    p = requests.get(l).text\n",
    "    urls = [base_url+i for i in html.fromstring(p).xpath('//dd//li//a/@href')]\n",
    "    kwakos.extend(urls)"
   ]
  },
  {
   "cell_type": "code",
   "execution_count": 56,
   "metadata": {
    "scrolled": false
   },
   "outputs": [],
   "source": [
    "with open(\"output.csv\", 'w', newline='') as f:\n",
    "    th = ['연도', '왕대년', '간지', '시험명', '등급', '등위', '이름', '본관']\n",
    "    writer = csv.writer(f)\n",
    "    writer.writerow(th)\n",
    "    for kwako in kwakos:\n",
    "        page = html.fromstring(requests.get(kwako).content)\n",
    "        lentr = len(page.xpath('//tr'))\n",
    "        rows = [page.xpath('//tr['+ str(i) +']/td//text()') for i in range(2,lentr+1)]\n",
    "        rows = [r[1:] for r in rows]\n",
    "        writer.writerows(rows)"
   ]
  },
  {
   "cell_type": "code",
   "execution_count": null,
   "metadata": {},
   "outputs": [],
   "source": []
  },
  {
   "cell_type": "code",
   "execution_count": null,
   "metadata": {},
   "outputs": [],
   "source": []
  }
 ],
 "metadata": {
  "kernelspec": {
   "display_name": "Python 3",
   "language": "python",
   "name": "python3"
  },
  "language_info": {
   "codemirror_mode": {
    "name": "ipython",
    "version": 3
   },
   "file_extension": ".py",
   "mimetype": "text/x-python",
   "name": "python",
   "nbconvert_exporter": "python",
   "pygments_lexer": "ipython3",
   "version": "3.7.4"
  }
 },
 "nbformat": 4,
 "nbformat_minor": 2
}
