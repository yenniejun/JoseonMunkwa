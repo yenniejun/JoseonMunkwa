{
 "cells": [
  {
   "cell_type": "code",
   "execution_count": 2,
   "metadata": {},
   "outputs": [],
   "source": [
    "import pandas as pd"
   ]
  },
  {
   "cell_type": "code",
   "execution_count": 80,
   "metadata": {},
   "outputs": [],
   "source": [
    "mc = pd.read_excel('./Munkwa/munkwa_cha.xlsx')\n",
    "ml = pd.read_csv('./Munkwa/munkwa_lee.csv')\n",
    "mw = pd.read_csv('./Munkwa/munkwa_WS.csv')"
   ]
  },
  {
   "cell_type": "code",
   "execution_count": 42,
   "metadata": {},
   "outputs": [],
   "source": [
    "ml.시험명 = ml.시험명.str.replace('\\(.*\\)', '', regex=True)\n",
    "ml.왕대 = ml.왕대.str.replace('\\(.*\\)', '', regex=True)\n",
    "ml.간지 = ml.간지.str.replace('\\(.*\\)', '', regex=True)\n",
    "ml.등급 = ml.등급.str.replace('\\(.*\\)', '', regex=True)\n",
    "ml.등위 = ml.등위.str.replace('\\[.*\\]','')"
   ]
  },
  {
   "cell_type": "code",
   "execution_count": 29,
   "metadata": {},
   "outputs": [],
   "source": [
    "ml[['한글명','한자명']] = ml.급제자.str.partition('(')[[0,2]]\n",
    "ml['한자명'] = ml.한자명.str.replace('\\)','')\n",
    "ml = ml.drop('급제자',axis=1)"
   ]
  },
  {
   "cell_type": "code",
   "execution_count": 31,
   "metadata": {},
   "outputs": [],
   "source": [
    "ml[['본관한글','본관한자']] = ml.본관.str.partition('(')[[0,2]]\n",
    "ml['본관한자'] = ml.본관한자.str.replace('\\)','')\n",
    "ml = ml.drop('본관',axis=1)"
   ]
  },
  {
   "cell_type": "code",
   "execution_count": 37,
   "metadata": {},
   "outputs": [],
   "source": [
    "ml[['시험주기','시험유형']] = ml.시험유형.str.partition('：')[[0,2]]\n",
    "ml.시험유형 = ml.시험유형.str.replace('\\(.*\\)', '', regex=True)"
   ]
  },
  {
   "cell_type": "code",
   "execution_count": 44,
   "metadata": {},
   "outputs": [],
   "source": [
    "ml[['거주지한글','거주지한자']] = ml.거주지.str.partition('(')[[0,2]]\n",
    "ml['거주지한자'] = ml.거주지한자.str.replace('\\)','')"
   ]
  },
  {
   "cell_type": "code",
   "execution_count": 46,
   "metadata": {
    "scrolled": true
   },
   "outputs": [],
   "source": [
    "ml.to_csv('./Munkwa/decoupled/munkwa_lee.csv')"
   ]
  },
  {
   "cell_type": "code",
   "execution_count": null,
   "metadata": {},
   "outputs": [],
   "source": []
  },
  {
   "cell_type": "code",
   "execution_count": 81,
   "metadata": {},
   "outputs": [],
   "source": [
    "mw[['왕대','왕년']] = mw.왕대년.str.partition()[[0,2]]\n",
    "mw = mw.drop('왕대년',axis=1)"
   ]
  },
  {
   "cell_type": "code",
   "execution_count": 82,
   "metadata": {},
   "outputs": [],
   "source": [
    "mw['시험명'] = mw.시험명.str.replace('\\(.*\\)','')\n",
    "mw['등급'] = mw.등급.str.replace('\\(.*\\)','')\n",
    "mw['등위'] = mw.등위.str.replace('\\[.*\\]','')\n",
    "mw['등위'] = mw.등위.str.replace('위','')"
   ]
  },
  {
   "cell_type": "code",
   "execution_count": 83,
   "metadata": {},
   "outputs": [],
   "source": [
    "mw[['본관한글','본관한자']] = mw.본관.str.partition('(')[[0,2]]\n",
    "mw = mw.drop('본관',axis=1)\n",
    "mw['본관한자'] = mw.본관한자.str.replace('\\)\\n','',regex=True)\n",
    "mw['본관한글'] = mw.본관한글.str.replace('\\n','',regex=True)"
   ]
  },
  {
   "cell_type": "code",
   "execution_count": 85,
   "metadata": {},
   "outputs": [],
   "source": [
    "mw[['한글명','한자명']] = mw.이름.str.partition('(')[[0,2]]\n",
    "mw['한자명'] = mw.한자명.str.replace('\\)','')\n",
    "mw = mw.drop('이름',axis=1)"
   ]
  },
  {
   "cell_type": "code",
   "execution_count": 87,
   "metadata": {},
   "outputs": [],
   "source": [
    "mw.to_csv('./Munkwa/decoupled/munkwa_WS.csv')"
   ]
  },
  {
   "cell_type": "code",
   "execution_count": 88,
   "metadata": {},
   "outputs": [],
   "source": [
    "mc.to_csv('./Munkwa/decoupled/munkwa_cha.csv')"
   ]
  },
  {
   "cell_type": "code",
   "execution_count": null,
   "metadata": {},
   "outputs": [],
   "source": []
  }
 ],
 "metadata": {
  "kernelspec": {
   "display_name": "Python 3",
   "language": "python",
   "name": "python3"
  },
  "language_info": {
   "codemirror_mode": {
    "name": "ipython",
    "version": 3
   },
   "file_extension": ".py",
   "mimetype": "text/x-python",
   "name": "python",
   "nbconvert_exporter": "python",
   "pygments_lexer": "ipython3",
   "version": "3.7.3"
  }
 },
 "nbformat": 4,
 "nbformat_minor": 2
}
